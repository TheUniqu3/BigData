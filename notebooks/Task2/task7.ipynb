{
 "cells": [
  {
   "cell_type": "code",
   "execution_count": null,
   "id": "initial_id",
   "metadata": {
    "is_executing": true
   },
   "outputs": [],
   "source": [
    "\n",
    "import pandas as pd\n",
    "import umap as umap\n",
    "import umap.plot as uplt\n",
    "from sklearn import preprocessing\n",
    "from datetime import datetime\n",
    "\n",
    "data = pd.read_csv(\"C:\\\\Users\\\\grman\\\\Desktop\\\\BigPapa\\\\Greg\\\\BigData\\\\DataSet\\\\fashion-mnist_train.csv\")\n",
    "\n",
    "data"
   ]
  },
  {
   "cell_type": "code",
   "execution_count": null,
   "id": "ec7598713149cc56",
   "metadata": {
    "is_executing": true
   },
   "outputs": [],
   "source": [
    "scaler = preprocessing.MinMaxScaler()\n",
    "d = data.drop(['label'], axis=1)\n",
    "D = pd.DataFrame(scaler.fit_transform(d), columns=d.columns)\n",
    "D"
   ]
  },
  {
   "cell_type": "code",
   "execution_count": null,
   "id": "f34a8ec0541cd7f2",
   "metadata": {
    "is_executing": true
   },
   "outputs": [],
   "source": [
    "n_neighbors = (5, 25, 50)\n",
    "min_dist = (0.1, 0.6)\n",
    "timedict = dict()\n",
    "um1 = dict()\n",
    "DATA = D.copy()\n",
    "for i in range(len(n_neighbors)):\n",
    "    for j in range(len(min_dist)):\n",
    "        before = datetime.now()\n",
    "        um1[(n_neighbors[i], min_dist[j])] = (umap.UMAP(n_neighbors=n_neighbors[i], min_dist=min_dist[j], random_state=123)).fit(DATA)\n",
    "        timedict[(n_neighbors[i], min_dist[j])] = datetime.now() - before\n"
   ]
  },
  {
   "cell_type": "code",
   "execution_count": null,
   "id": "ee4240e9d47c3fde",
   "metadata": {
    "is_executing": true
   },
   "outputs": [],
   "source": [
    "for value in um1.values():\n",
    "    uplt.points(value)\n"
   ]
  }
 ],
 "metadata": {
  "kernelspec": {
   "display_name": "Python 3 (ipykernel)",
   "language": "python",
   "name": "python3"
  },
  "language_info": {
   "codemirror_mode": {
    "name": "ipython",
    "version": 3
   },
   "file_extension": ".py",
   "mimetype": "text/x-python",
   "name": "python",
   "nbconvert_exporter": "python",
   "pygments_lexer": "ipython3",
   "version": "3.11.4"
  }
 },
 "nbformat": 4,
 "nbformat_minor": 5
}
