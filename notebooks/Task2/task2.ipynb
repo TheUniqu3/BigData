{
 "cells": [
  {
   "cell_type": "code",
   "execution_count": 9,
   "id": "initial_id",
   "metadata": {
    "collapsed": true,
    "ExecuteTime": {
     "end_time": "2023-09-28T16:40:20.768338400Z",
     "start_time": "2023-09-28T16:40:20.636563800Z"
    }
   },
   "outputs": [
    {
     "name": "stdout",
     "output_type": "stream",
     "text": [
      "<class 'pandas.core.frame.DataFrame'>\n",
      "RangeIndex: 27075 entries, 0 to 27074\n",
      "Data columns (total 18 columns):\n",
      " #   Column            Non-Null Count  Dtype  \n",
      "---  ------            --------------  -----  \n",
      " 0   appid             27075 non-null  int64  \n",
      " 1   name              27075 non-null  object \n",
      " 2   release_date      27075 non-null  object \n",
      " 3   english           27075 non-null  int64  \n",
      " 4   developer         27075 non-null  object \n",
      " 5   publisher         27075 non-null  object \n",
      " 6   platforms         27075 non-null  object \n",
      " 7   required_age      27075 non-null  int64  \n",
      " 8   categories        27075 non-null  object \n",
      " 9   genres            27075 non-null  object \n",
      " 10  steamspy_tags     27075 non-null  object \n",
      " 11  achievements      27075 non-null  int64  \n",
      " 12  positive_ratings  27075 non-null  int64  \n",
      " 13  negative_ratings  27075 non-null  int64  \n",
      " 14  average_playtime  27075 non-null  int64  \n",
      " 15  median_playtime   27075 non-null  int64  \n",
      " 16  owners            27075 non-null  object \n",
      " 17  price             27075 non-null  float64\n",
      "dtypes: float64(1), int64(8), object(9)\n",
      "memory usage: 3.7+ MB\n"
     ]
    }
   ],
   "source": [
    "import pandas as pd\n",
    "\n",
    "data = pd.read_csv(\"C:\\\\Users\\\\grman\\\\OneDrive\\\\Desktop\\\\BigPapa\\\\Greg\\\\BigData\\\\DataSet\\\\steam.csv\")\n",
    "data.info()"
   ]
  },
  {
   "cell_type": "code",
   "execution_count": 10,
   "outputs": [
    {
     "data": {
      "text/plain": "   appid                       name release_date  english         developer  \\\n0     10             Counter-Strike   2000-11-01        1             Valve   \n1     20      Team Fortress Classic   1999-04-01        1             Valve   \n2     30              Day of Defeat   2003-05-01        1             Valve   \n3     40         Deathmatch Classic   2001-06-01        1             Valve   \n4     50  Half-Life: Opposing Force   1999-11-01        1  Gearbox Software   \n\n  publisher          platforms  required_age  \\\n0     Valve  windows;mac;linux             0   \n1     Valve  windows;mac;linux             0   \n2     Valve  windows;mac;linux             0   \n3     Valve  windows;mac;linux             0   \n4     Valve  windows;mac;linux             0   \n\n                                          categories  genres  \\\n0  Multi-player;Online Multi-Player;Local Multi-P...  Action   \n1  Multi-player;Online Multi-Player;Local Multi-P...  Action   \n2              Multi-player;Valve Anti-Cheat enabled  Action   \n3  Multi-player;Online Multi-Player;Local Multi-P...  Action   \n4  Single-player;Multi-player;Valve Anti-Cheat en...  Action   \n\n                  steamspy_tags  achievements  positive_ratings  \\\n0        Action;FPS;Multiplayer             0            124534   \n1        Action;FPS;Multiplayer             0              3318   \n2  FPS;World War II;Multiplayer             0              3416   \n3        Action;FPS;Multiplayer             0              1273   \n4             FPS;Action;Sci-fi             0              5250   \n\n   negative_ratings  average_playtime  median_playtime             owners  \\\n0              3339             17612              317  10000000-20000000   \n1               633               277               62   5000000-10000000   \n2               398               187               34   5000000-10000000   \n3               267               258              184   5000000-10000000   \n4               288               624              415   5000000-10000000   \n\n   price  \n0   7.19  \n1   3.99  \n2   3.99  \n3   3.99  \n4   3.99  ",
      "text/html": "<div>\n<style scoped>\n    .dataframe tbody tr th:only-of-type {\n        vertical-align: middle;\n    }\n\n    .dataframe tbody tr th {\n        vertical-align: top;\n    }\n\n    .dataframe thead th {\n        text-align: right;\n    }\n</style>\n<table border=\"1\" class=\"dataframe\">\n  <thead>\n    <tr style=\"text-align: right;\">\n      <th></th>\n      <th>appid</th>\n      <th>name</th>\n      <th>release_date</th>\n      <th>english</th>\n      <th>developer</th>\n      <th>publisher</th>\n      <th>platforms</th>\n      <th>required_age</th>\n      <th>categories</th>\n      <th>genres</th>\n      <th>steamspy_tags</th>\n      <th>achievements</th>\n      <th>positive_ratings</th>\n      <th>negative_ratings</th>\n      <th>average_playtime</th>\n      <th>median_playtime</th>\n      <th>owners</th>\n      <th>price</th>\n    </tr>\n  </thead>\n  <tbody>\n    <tr>\n      <th>0</th>\n      <td>10</td>\n      <td>Counter-Strike</td>\n      <td>2000-11-01</td>\n      <td>1</td>\n      <td>Valve</td>\n      <td>Valve</td>\n      <td>windows;mac;linux</td>\n      <td>0</td>\n      <td>Multi-player;Online Multi-Player;Local Multi-P...</td>\n      <td>Action</td>\n      <td>Action;FPS;Multiplayer</td>\n      <td>0</td>\n      <td>124534</td>\n      <td>3339</td>\n      <td>17612</td>\n      <td>317</td>\n      <td>10000000-20000000</td>\n      <td>7.19</td>\n    </tr>\n    <tr>\n      <th>1</th>\n      <td>20</td>\n      <td>Team Fortress Classic</td>\n      <td>1999-04-01</td>\n      <td>1</td>\n      <td>Valve</td>\n      <td>Valve</td>\n      <td>windows;mac;linux</td>\n      <td>0</td>\n      <td>Multi-player;Online Multi-Player;Local Multi-P...</td>\n      <td>Action</td>\n      <td>Action;FPS;Multiplayer</td>\n      <td>0</td>\n      <td>3318</td>\n      <td>633</td>\n      <td>277</td>\n      <td>62</td>\n      <td>5000000-10000000</td>\n      <td>3.99</td>\n    </tr>\n    <tr>\n      <th>2</th>\n      <td>30</td>\n      <td>Day of Defeat</td>\n      <td>2003-05-01</td>\n      <td>1</td>\n      <td>Valve</td>\n      <td>Valve</td>\n      <td>windows;mac;linux</td>\n      <td>0</td>\n      <td>Multi-player;Valve Anti-Cheat enabled</td>\n      <td>Action</td>\n      <td>FPS;World War II;Multiplayer</td>\n      <td>0</td>\n      <td>3416</td>\n      <td>398</td>\n      <td>187</td>\n      <td>34</td>\n      <td>5000000-10000000</td>\n      <td>3.99</td>\n    </tr>\n    <tr>\n      <th>3</th>\n      <td>40</td>\n      <td>Deathmatch Classic</td>\n      <td>2001-06-01</td>\n      <td>1</td>\n      <td>Valve</td>\n      <td>Valve</td>\n      <td>windows;mac;linux</td>\n      <td>0</td>\n      <td>Multi-player;Online Multi-Player;Local Multi-P...</td>\n      <td>Action</td>\n      <td>Action;FPS;Multiplayer</td>\n      <td>0</td>\n      <td>1273</td>\n      <td>267</td>\n      <td>258</td>\n      <td>184</td>\n      <td>5000000-10000000</td>\n      <td>3.99</td>\n    </tr>\n    <tr>\n      <th>4</th>\n      <td>50</td>\n      <td>Half-Life: Opposing Force</td>\n      <td>1999-11-01</td>\n      <td>1</td>\n      <td>Gearbox Software</td>\n      <td>Valve</td>\n      <td>windows;mac;linux</td>\n      <td>0</td>\n      <td>Single-player;Multi-player;Valve Anti-Cheat en...</td>\n      <td>Action</td>\n      <td>FPS;Action;Sci-fi</td>\n      <td>0</td>\n      <td>5250</td>\n      <td>288</td>\n      <td>624</td>\n      <td>415</td>\n      <td>5000000-10000000</td>\n      <td>3.99</td>\n    </tr>\n  </tbody>\n</table>\n</div>"
     },
     "execution_count": 10,
     "metadata": {},
     "output_type": "execute_result"
    }
   ],
   "source": [
    "data.head()"
   ],
   "metadata": {
    "collapsed": false,
    "ExecuteTime": {
     "end_time": "2023-09-28T16:40:20.786558400Z",
     "start_time": "2023-09-28T16:40:20.771338300Z"
    }
   },
   "id": "6a5958c570973b0a"
  },
  {
   "cell_type": "code",
   "execution_count": 11,
   "outputs": [
    {
     "data": {
      "text/plain": "appid               0\nname                0\nrelease_date        0\nenglish             0\ndeveloper           0\npublisher           0\nplatforms           0\nrequired_age        0\ncategories          0\ngenres              0\nsteamspy_tags       0\nachievements        0\npositive_ratings    0\nnegative_ratings    0\naverage_playtime    0\nmedian_playtime     0\nowners              0\nprice               0\ndtype: int64"
     },
     "execution_count": 11,
     "metadata": {},
     "output_type": "execute_result"
    }
   ],
   "source": [
    "data.isna().sum()"
   ],
   "metadata": {
    "collapsed": false,
    "ExecuteTime": {
     "end_time": "2023-09-28T16:40:20.909006Z",
     "start_time": "2023-09-28T16:40:20.782557Z"
    }
   },
   "id": "d8fb60f78a1081da"
  },
  {
   "cell_type": "code",
   "execution_count": 16,
   "outputs": [
    {
     "data": {
      "text/plain": "    appid     name release_date english                        developer  \\\n0  583950  The Lab   2018-11-28       1  Valve;Hidden Path Entertainment   \n1  583950  The Lab   2018-11-28       1  Valve;Hidden Path Entertainment   \n2  583950  The Lab   2018-11-28       1  Valve;Hidden Path Entertainment   \n3  583950  The Lab   2018-11-28       1  Valve;Hidden Path Entertainment   \n4  583950  The Lab   2018-11-28       1  Valve;Hidden Path Entertainment   \n\n           platforms required_age      categories    genres  \\\n0  windows;mac;linux            0  Steam Workshop  Strategy   \n1  windows;mac;linux            0  Steam Workshop  Strategy   \n2  windows;mac;linux            0  Steam Workshop  Strategy   \n3  windows;mac;linux            0  Steam Workshop  Strategy   \n4  windows;mac;linux            0  Steam Workshop  Strategy   \n\n       steamspy_tags achievements positive_ratings negative_ratings  \\\n0  Zombies;Co-op;FPS          520          2644404           402313   \n1  Zombies;Co-op;FPS          520          2644404           402313   \n2  Zombies;Co-op;FPS          520          2644404           402313   \n3  Zombies;Co-op;FPS          520          2644404           402313   \n4  Zombies;Co-op;FPS          520          2644404           402313   \n\n  average_playtime median_playtime              owners  price  \n0            23944            6502  50000000-100000000  15.99  \n1            23944            6502  50000000-100000000  15.99  \n2            23944            6502  50000000-100000000  15.99  \n3            23944            6502  50000000-100000000  15.99  \n4            23944            6502  50000000-100000000  15.99  ",
      "text/html": "<div>\n<style scoped>\n    .dataframe tbody tr th:only-of-type {\n        vertical-align: middle;\n    }\n\n    .dataframe tbody tr th {\n        vertical-align: top;\n    }\n\n    .dataframe thead th {\n        text-align: right;\n    }\n</style>\n<table border=\"1\" class=\"dataframe\">\n  <thead>\n    <tr style=\"text-align: right;\">\n      <th></th>\n      <th>appid</th>\n      <th>name</th>\n      <th>release_date</th>\n      <th>english</th>\n      <th>developer</th>\n      <th>platforms</th>\n      <th>required_age</th>\n      <th>categories</th>\n      <th>genres</th>\n      <th>steamspy_tags</th>\n      <th>achievements</th>\n      <th>positive_ratings</th>\n      <th>negative_ratings</th>\n      <th>average_playtime</th>\n      <th>median_playtime</th>\n      <th>owners</th>\n      <th>price</th>\n    </tr>\n  </thead>\n  <tbody>\n    <tr>\n      <th>0</th>\n      <td>583950</td>\n      <td>The Lab</td>\n      <td>2018-11-28</td>\n      <td>1</td>\n      <td>Valve;Hidden Path Entertainment</td>\n      <td>windows;mac;linux</td>\n      <td>0</td>\n      <td>Steam Workshop</td>\n      <td>Strategy</td>\n      <td>Zombies;Co-op;FPS</td>\n      <td>520</td>\n      <td>2644404</td>\n      <td>402313</td>\n      <td>23944</td>\n      <td>6502</td>\n      <td>50000000-100000000</td>\n      <td>15.99</td>\n    </tr>\n    <tr>\n      <th>1</th>\n      <td>583950</td>\n      <td>The Lab</td>\n      <td>2018-11-28</td>\n      <td>1</td>\n      <td>Valve;Hidden Path Entertainment</td>\n      <td>windows;mac;linux</td>\n      <td>0</td>\n      <td>Steam Workshop</td>\n      <td>Strategy</td>\n      <td>Zombies;Co-op;FPS</td>\n      <td>520</td>\n      <td>2644404</td>\n      <td>402313</td>\n      <td>23944</td>\n      <td>6502</td>\n      <td>50000000-100000000</td>\n      <td>15.99</td>\n    </tr>\n    <tr>\n      <th>2</th>\n      <td>583950</td>\n      <td>The Lab</td>\n      <td>2018-11-28</td>\n      <td>1</td>\n      <td>Valve;Hidden Path Entertainment</td>\n      <td>windows;mac;linux</td>\n      <td>0</td>\n      <td>Steam Workshop</td>\n      <td>Strategy</td>\n      <td>Zombies;Co-op;FPS</td>\n      <td>520</td>\n      <td>2644404</td>\n      <td>402313</td>\n      <td>23944</td>\n      <td>6502</td>\n      <td>50000000-100000000</td>\n      <td>15.99</td>\n    </tr>\n    <tr>\n      <th>3</th>\n      <td>583950</td>\n      <td>The Lab</td>\n      <td>2018-11-28</td>\n      <td>1</td>\n      <td>Valve;Hidden Path Entertainment</td>\n      <td>windows;mac;linux</td>\n      <td>0</td>\n      <td>Steam Workshop</td>\n      <td>Strategy</td>\n      <td>Zombies;Co-op;FPS</td>\n      <td>520</td>\n      <td>2644404</td>\n      <td>402313</td>\n      <td>23944</td>\n      <td>6502</td>\n      <td>50000000-100000000</td>\n      <td>15.99</td>\n    </tr>\n    <tr>\n      <th>4</th>\n      <td>583950</td>\n      <td>The Lab</td>\n      <td>2018-11-28</td>\n      <td>1</td>\n      <td>Valve;Hidden Path Entertainment</td>\n      <td>windows;mac;linux</td>\n      <td>0</td>\n      <td>Steam Workshop</td>\n      <td>Strategy</td>\n      <td>Zombies;Co-op;FPS</td>\n      <td>520</td>\n      <td>2644404</td>\n      <td>402313</td>\n      <td>23944</td>\n      <td>6502</td>\n      <td>50000000-100000000</td>\n      <td>15.99</td>\n    </tr>\n  </tbody>\n</table>\n</div>"
     },
     "execution_count": 16,
     "metadata": {},
     "output_type": "execute_result"
    }
   ],
   "source": [
    "data.groupby(\"publisher\").transform(lambda i: max(i)).head()"
   ],
   "metadata": {
    "collapsed": false,
    "ExecuteTime": {
     "end_time": "2023-09-28T16:58:51.438167600Z",
     "start_time": "2023-09-28T16:58:42.208731900Z"
    }
   },
   "id": "5aa0925cdf14eaa0"
  }
 ],
 "metadata": {
  "kernelspec": {
   "display_name": "Python 3",
   "language": "python",
   "name": "python3"
  },
  "language_info": {
   "codemirror_mode": {
    "name": "ipython",
    "version": 2
   },
   "file_extension": ".py",
   "mimetype": "text/x-python",
   "name": "python",
   "nbconvert_exporter": "python",
   "pygments_lexer": "ipython2",
   "version": "2.7.6"
  }
 },
 "nbformat": 4,
 "nbformat_minor": 5
}
