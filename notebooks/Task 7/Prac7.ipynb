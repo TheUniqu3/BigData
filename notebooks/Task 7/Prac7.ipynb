{
 "cells": [
  {
   "cell_type": "markdown",
   "id": "5da36c6b",
   "metadata": {},
   "source": [
    "# Практика 7"
   ]
  },
  {
   "cell_type": "markdown",
   "id": "b10ee4d9",
   "metadata": {},
   "source": []
  },
  {
   "cell_type": "markdown",
   "id": "cb83a2b1",
   "metadata": {},
   "source": [
    "## Библиотеки"
   ]
  },
  {
   "cell_type": "code",
   "execution_count": 34,
   "id": "9ad4ef5f",
   "metadata": {
    "ExecuteTime": {
     "end_time": "2023-11-30T13:55:15.425243200Z",
     "start_time": "2023-11-30T13:55:15.376583300Z"
    }
   },
   "outputs": [],
   "source": [
    "import pandas as pd\n"
   ]
  },
  {
   "cell_type": "markdown",
   "id": "ae93356d",
   "metadata": {},
   "source": [
    "### 1. Найти данные для задачи классификации"
   ]
  },
  {
   "cell_type": "code",
   "execution_count": 35,
   "outputs": [],
   "source": [
    "mushrooms = pd.read_csv('C:\\\\Users\\\\grman\\\\Documents\\\\BigPapa\\\\Greg\\\\BigData\\\\DataSet\\\\Pr7\\\\mushrooms.csv')"
   ],
   "metadata": {
    "collapsed": false,
    "ExecuteTime": {
     "end_time": "2023-11-30T13:55:15.475711500Z",
     "start_time": "2023-11-30T13:55:15.379581300Z"
    }
   },
   "id": "d2a3cb1a075f7296"
  },
  {
   "cell_type": "code",
   "execution_count": 36,
   "outputs": [
    {
     "data": {
      "text/plain": "  class cap-shape cap-surface cap-color bruises odor gill-attachment  \\\n0     p         x           s         n       t    p               f   \n1     e         x           s         y       t    a               f   \n2     e         b           s         w       t    l               f   \n3     p         x           y         w       t    p               f   \n4     e         x           s         g       f    n               f   \n\n  gill-spacing gill-size gill-color  ... stalk-surface-below-ring  \\\n0            c         n          k  ...                        s   \n1            c         b          k  ...                        s   \n2            c         b          n  ...                        s   \n3            c         n          n  ...                        s   \n4            w         b          k  ...                        s   \n\n  stalk-color-above-ring stalk-color-below-ring veil-type veil-color  \\\n0                      w                      w         p          w   \n1                      w                      w         p          w   \n2                      w                      w         p          w   \n3                      w                      w         p          w   \n4                      w                      w         p          w   \n\n  ring-number ring-type spore-print-color population habitat  \n0           o         p                 k          s       u  \n1           o         p                 n          n       g  \n2           o         p                 n          n       m  \n3           o         p                 k          s       u  \n4           o         e                 n          a       g  \n\n[5 rows x 23 columns]",
      "text/html": "<div>\n<style scoped>\n    .dataframe tbody tr th:only-of-type {\n        vertical-align: middle;\n    }\n\n    .dataframe tbody tr th {\n        vertical-align: top;\n    }\n\n    .dataframe thead th {\n        text-align: right;\n    }\n</style>\n<table border=\"1\" class=\"dataframe\">\n  <thead>\n    <tr style=\"text-align: right;\">\n      <th></th>\n      <th>class</th>\n      <th>cap-shape</th>\n      <th>cap-surface</th>\n      <th>cap-color</th>\n      <th>bruises</th>\n      <th>odor</th>\n      <th>gill-attachment</th>\n      <th>gill-spacing</th>\n      <th>gill-size</th>\n      <th>gill-color</th>\n      <th>...</th>\n      <th>stalk-surface-below-ring</th>\n      <th>stalk-color-above-ring</th>\n      <th>stalk-color-below-ring</th>\n      <th>veil-type</th>\n      <th>veil-color</th>\n      <th>ring-number</th>\n      <th>ring-type</th>\n      <th>spore-print-color</th>\n      <th>population</th>\n      <th>habitat</th>\n    </tr>\n  </thead>\n  <tbody>\n    <tr>\n      <th>0</th>\n      <td>p</td>\n      <td>x</td>\n      <td>s</td>\n      <td>n</td>\n      <td>t</td>\n      <td>p</td>\n      <td>f</td>\n      <td>c</td>\n      <td>n</td>\n      <td>k</td>\n      <td>...</td>\n      <td>s</td>\n      <td>w</td>\n      <td>w</td>\n      <td>p</td>\n      <td>w</td>\n      <td>o</td>\n      <td>p</td>\n      <td>k</td>\n      <td>s</td>\n      <td>u</td>\n    </tr>\n    <tr>\n      <th>1</th>\n      <td>e</td>\n      <td>x</td>\n      <td>s</td>\n      <td>y</td>\n      <td>t</td>\n      <td>a</td>\n      <td>f</td>\n      <td>c</td>\n      <td>b</td>\n      <td>k</td>\n      <td>...</td>\n      <td>s</td>\n      <td>w</td>\n      <td>w</td>\n      <td>p</td>\n      <td>w</td>\n      <td>o</td>\n      <td>p</td>\n      <td>n</td>\n      <td>n</td>\n      <td>g</td>\n    </tr>\n    <tr>\n      <th>2</th>\n      <td>e</td>\n      <td>b</td>\n      <td>s</td>\n      <td>w</td>\n      <td>t</td>\n      <td>l</td>\n      <td>f</td>\n      <td>c</td>\n      <td>b</td>\n      <td>n</td>\n      <td>...</td>\n      <td>s</td>\n      <td>w</td>\n      <td>w</td>\n      <td>p</td>\n      <td>w</td>\n      <td>o</td>\n      <td>p</td>\n      <td>n</td>\n      <td>n</td>\n      <td>m</td>\n    </tr>\n    <tr>\n      <th>3</th>\n      <td>p</td>\n      <td>x</td>\n      <td>y</td>\n      <td>w</td>\n      <td>t</td>\n      <td>p</td>\n      <td>f</td>\n      <td>c</td>\n      <td>n</td>\n      <td>n</td>\n      <td>...</td>\n      <td>s</td>\n      <td>w</td>\n      <td>w</td>\n      <td>p</td>\n      <td>w</td>\n      <td>o</td>\n      <td>p</td>\n      <td>k</td>\n      <td>s</td>\n      <td>u</td>\n    </tr>\n    <tr>\n      <th>4</th>\n      <td>e</td>\n      <td>x</td>\n      <td>s</td>\n      <td>g</td>\n      <td>f</td>\n      <td>n</td>\n      <td>f</td>\n      <td>w</td>\n      <td>b</td>\n      <td>k</td>\n      <td>...</td>\n      <td>s</td>\n      <td>w</td>\n      <td>w</td>\n      <td>p</td>\n      <td>w</td>\n      <td>o</td>\n      <td>e</td>\n      <td>n</td>\n      <td>a</td>\n      <td>g</td>\n    </tr>\n  </tbody>\n</table>\n<p>5 rows × 23 columns</p>\n</div>"
     },
     "execution_count": 36,
     "metadata": {},
     "output_type": "execute_result"
    }
   ],
   "source": [
    "mushrooms.head()"
   ],
   "metadata": {
    "collapsed": false,
    "ExecuteTime": {
     "end_time": "2023-11-30T13:55:15.501110Z",
     "start_time": "2023-11-30T13:55:15.398913700Z"
    }
   },
   "id": "b32920fe2971a525"
  },
  {
   "cell_type": "code",
   "execution_count": 37,
   "outputs": [
    {
     "name": "stdout",
     "output_type": "stream",
     "text": [
      "<class 'pandas.core.frame.DataFrame'>\n",
      "RangeIndex: 8124 entries, 0 to 8123\n",
      "Data columns (total 23 columns):\n",
      " #   Column                    Non-Null Count  Dtype \n",
      "---  ------                    --------------  ----- \n",
      " 0   class                     8124 non-null   object\n",
      " 1   cap-shape                 8124 non-null   object\n",
      " 2   cap-surface               8124 non-null   object\n",
      " 3   cap-color                 8124 non-null   object\n",
      " 4   bruises                   8124 non-null   object\n",
      " 5   odor                      8124 non-null   object\n",
      " 6   gill-attachment           8124 non-null   object\n",
      " 7   gill-spacing              8124 non-null   object\n",
      " 8   gill-size                 8124 non-null   object\n",
      " 9   gill-color                8124 non-null   object\n",
      " 10  stalk-shape               8124 non-null   object\n",
      " 11  stalk-root                8124 non-null   object\n",
      " 12  stalk-surface-above-ring  8124 non-null   object\n",
      " 13  stalk-surface-below-ring  8124 non-null   object\n",
      " 14  stalk-color-above-ring    8124 non-null   object\n",
      " 15  stalk-color-below-ring    8124 non-null   object\n",
      " 16  veil-type                 8124 non-null   object\n",
      " 17  veil-color                8124 non-null   object\n",
      " 18  ring-number               8124 non-null   object\n",
      " 19  ring-type                 8124 non-null   object\n",
      " 20  spore-print-color         8124 non-null   object\n",
      " 21  population                8124 non-null   object\n",
      " 22  habitat                   8124 non-null   object\n",
      "dtypes: object(23)\n",
      "memory usage: 1.4+ MB\n"
     ]
    }
   ],
   "source": [
    "mushrooms.info()"
   ],
   "metadata": {
    "collapsed": false,
    "ExecuteTime": {
     "end_time": "2023-11-30T13:55:15.513575900Z",
     "start_time": "2023-11-30T13:55:15.412735300Z"
    }
   },
   "id": "ec2efa5159c6ab76"
  },
  {
   "cell_type": "code",
   "execution_count": 38,
   "outputs": [
    {
     "data": {
      "text/plain": "class                       0\ncap-shape                   0\ncap-surface                 0\ncap-color                   0\nbruises                     0\nodor                        0\ngill-attachment             0\ngill-spacing                0\ngill-size                   0\ngill-color                  0\nstalk-shape                 0\nstalk-root                  0\nstalk-surface-above-ring    0\nstalk-surface-below-ring    0\nstalk-color-above-ring      0\nstalk-color-below-ring      0\nveil-type                   0\nveil-color                  0\nring-number                 0\nring-type                   0\nspore-print-color           0\npopulation                  0\nhabitat                     0\ndtype: int64"
     },
     "execution_count": 38,
     "metadata": {},
     "output_type": "execute_result"
    }
   ],
   "source": [
    "mushrooms.isna().sum()"
   ],
   "metadata": {
    "collapsed": false,
    "ExecuteTime": {
     "end_time": "2023-11-30T13:55:15.513575900Z",
     "start_time": "2023-11-30T13:55:15.444947900Z"
    }
   },
   "id": "89e17931510e9d65"
  },
  {
   "cell_type": "markdown",
   "source": [
    "### 2. Реализовать баггинг"
   ],
   "metadata": {
    "collapsed": false
   },
   "id": "7e4afae2f53fbf84"
  },
  {
   "cell_type": "code",
   "execution_count": 39,
   "outputs": [],
   "source": [
    "from sklearn.model_selection import train_test_split\n",
    "from sklearn.ensemble import BaggingClassifier\n",
    "from sklearn.tree import DecisionTreeClassifier\n",
    "from sklearn.metrics import accuracy_score\n",
    "\n",
    "\n",
    "columns = [\"class\", \"cap-shape\", \"cap-surface\", \"cap-color\", \"bruises\", \"odor\", \"gill-attachment\", \"gill-spacing\",\n",
    "           \"gill-size\", \"gill-color\", \"stalk-shape\", \"stalk-root\", \"stalk-surface-above-ring\",\n",
    "           \"stalk-surface-below-ring\", \"stalk-color-above-ring\", \"stalk-color-below-ring\", \"veil-type\", \"veil-color\",\n",
    "           \"ring-number\", \"ring-type\", \"spore-print-color\", \"population\", \"habitat\"]\n",
    "\n",
    "mapping = {\n",
    "    'p': 0, # posinous\n",
    "    'e': 1, # edible\n",
    "}\n",
    "def replace_tf(mush):\n",
    "    return mapping.get(mush, mush)\n",
    "\n",
    "# Преобразование категориальных признаков в числовые\n",
    "mushroom_data_encoded = pd.get_dummies(mushrooms)\n",
    "\n",
    "mushroom_data_encoded['class'] = mushrooms['class'].apply(replace_tf)\n",
    "mushroom_data_encoded['class'] = mushroom_data_encoded['class'].apply(int)\n",
    "mushroom_data_encoded.drop(columns=['class_e','class_p'],axis=0)\n",
    "\n",
    "\n",
    "X = mushroom_data_encoded.drop(columns=['class'], axis=1)\n",
    "y = mushroom_data_encoded['class']"
   ],
   "metadata": {
    "collapsed": false,
    "ExecuteTime": {
     "end_time": "2023-11-30T13:55:15.549084900Z",
     "start_time": "2023-11-30T13:55:15.472711300Z"
    }
   },
   "id": "a0a083b766869cb1"
  },
  {
   "cell_type": "code",
   "execution_count": 40,
   "outputs": [
    {
     "name": "stdout",
     "output_type": "stream",
     "text": [
      "Accuracy: 1.0\n"
     ]
    }
   ],
   "source": [
    "\n",
    "# training set and testing set of data\n",
    "X_train, X_test, y_train, y_test = train_test_split(X, y, test_size=0.2, random_state=42)\n",
    "\n",
    "# Определение базового классификатора (дерево решений)\n",
    "base_classifier = DecisionTreeClassifier()\n",
    "\n",
    "# Определение количества моделей в ансамбле\n",
    "n_classifiers = 15\n",
    "\n",
    "# Создание и обучение баггинг классификатора\n",
    "bagging_classifier = BaggingClassifier(base_classifier, n_estimators=n_classifiers, random_state=42)\n",
    "bagging_classifier.fit(X_train, y_train)\n",
    "\n",
    "# Получение прогнозов на тестовом наборе данных\n",
    "y_pred = bagging_classifier.predict(X_test)\n",
    "\n",
    "# Оценка точности модели\n",
    "accuracy1 = accuracy_score(y_test, y_pred)\n",
    "print(f'Accuracy: {accuracy1}')\n"
   ],
   "metadata": {
    "collapsed": false,
    "ExecuteTime": {
     "end_time": "2023-11-30T13:55:15.675831100Z",
     "start_time": "2023-11-30T13:55:15.510574700Z"
    }
   },
   "id": "50d5ef2a5fe5045d"
  },
  {
   "cell_type": "code",
   "execution_count": 41,
   "outputs": [
    {
     "name": "stdout",
     "output_type": "stream",
     "text": [
      "Accuracy: 1.0\n"
     ]
    }
   ],
   "source": [
    "\n",
    "from sklearn.ensemble import AdaBoostClassifier\n",
    "from sklearn.tree import DecisionTreeClassifier\n",
    "from sklearn.metrics import accuracy_score\n",
    "\n",
    "base_classifier = DecisionTreeClassifier(max_depth=1)  # Ограничиваем глубину дерева для AdaBoost\n",
    "\n",
    "# Определение количества моделей в ансамбле\n",
    "n_classifiers = 50\n",
    "\n",
    "# Создание и обучение бустинг классификатора (AdaBoost)\n",
    "boosting_classifier = AdaBoostClassifier(base_classifier, n_estimators=n_classifiers, random_state=42)\n",
    "boosting_classifier.fit(X_train, y_train)\n",
    "\n",
    "# Получение прогнозов на тестовом наборе данных\n",
    "y_pred = boosting_classifier.predict(X_test)\n",
    "\n",
    "# Оценка точности модели\n",
    "accuracy2 = accuracy_score(y_test, y_pred)\n",
    "print(f'Accuracy: {accuracy2}')\n"
   ],
   "metadata": {
    "collapsed": false,
    "ExecuteTime": {
     "end_time": "2023-11-30T13:55:15.675831100Z",
     "start_time": "2023-11-30T13:55:15.622260600Z"
    }
   },
   "id": "8999ba04c8b4e752"
  },
  {
   "cell_type": "code",
   "execution_count": 42,
   "outputs": [],
   "source": [
    "from sklearn.metrics import f1_score, confusion_matrix\n",
    "\n",
    "precision = [0,0]\n",
    "f1 = [0,0]\n",
    "\n",
    "def error_cal(y,i):\n",
    "    cm = confusion_matrix(y_test, y)\n",
    "    #матрицы ошибок \n",
    "    TP = cm[1, 1]\n",
    "    FP = cm[0, 1]\n",
    "    FN = cm[1, 0]\n",
    "    \n",
    "    precision[i] = TP / (TP + FP)\n",
    "    recall = TP / (TP + FN)\n",
    "    f1[i] = 2 * (precision[i] * recall) / (precision[i] + recall)\n",
    "\n",
    "error_cal(bagging_classifier.predict(X_test),0)\n",
    "error_cal(boosting_classifier.predict(X_test),1)"
   ],
   "metadata": {
    "collapsed": false,
    "ExecuteTime": {
     "end_time": "2023-11-30T13:55:15.676830600Z",
     "start_time": "2023-11-30T13:55:15.643092700Z"
    }
   },
   "id": "5a99bb26bf6c2610"
  },
  {
   "cell_type": "code",
   "execution_count": 43,
   "outputs": [
    {
     "data": {
      "text/plain": "class                       8124\ncap-shape                   8124\ncap-surface                 8124\ncap-color                   8124\nbruises                     8124\nodor                        8124\ngill-attachment             8124\ngill-spacing                8124\ngill-size                   8124\ngill-color                  8124\nstalk-shape                 8124\nstalk-root                  8124\nstalk-surface-above-ring    8124\nstalk-surface-below-ring    8124\nstalk-color-above-ring      8124\nstalk-color-below-ring      8124\nveil-type                   8124\nveil-color                  8124\nring-number                 8124\nring-type                   8124\nspore-print-color           8124\npopulation                  8124\nhabitat                     8124\ndtype: int64"
     },
     "execution_count": 43,
     "metadata": {},
     "output_type": "execute_result"
    }
   ],
   "source": [
    "mushrooms.count()"
   ],
   "metadata": {
    "collapsed": false,
    "ExecuteTime": {
     "end_time": "2023-11-30T13:55:15.700371100Z",
     "start_time": "2023-11-30T13:55:15.659827200Z"
    }
   },
   "id": "dd91ebd92662d715"
  },
  {
   "cell_type": "code",
   "execution_count": 44,
   "outputs": [
    {
     "name": "stdout",
     "output_type": "stream",
     "text": [
      "  Algorithm  Accuracy  Precision  F1-Score\n",
      "0   Bagging       1.0        1.0       1.0\n",
      "1  Boosting       1.0        1.0       1.0\n"
     ]
    }
   ],
   "source": [
    "results = pd.DataFrame({\n",
    "    'Algorithm': ['Bagging', 'Boosting'],\n",
    "    'Accuracy': [accuracy1, accuracy2],\n",
    "    'Precision': [precision[0],precision[1]],\n",
    "    'F1-Score':[f1[0],f1[1]]\n",
    "})\n",
    "\n",
    "print(results)"
   ],
   "metadata": {
    "collapsed": false,
    "ExecuteTime": {
     "end_time": "2023-11-30T13:55:15.700371100Z",
     "start_time": "2023-11-30T13:55:15.688049Z"
    }
   },
   "id": "8a222b5651d1231f"
  },
  {
   "cell_type": "markdown",
   "source": [
    "Если точность обеих моделей (бэггинга и бустинга) составляет 1.00 (или 100%), это может означать, что обе модели идеально справились с задачей классификации на выбранных данных. В данном случае:\n",
    "\n",
    "Бэггинг (Random Forest):\n",
    "\n",
    "Бэггинг, основанный на случайном лесе, показал высокую точность, равную 1.00.\n",
    "Это может свидетельствовать о стабильности и надежности модели на предоставленных данных.\n",
    "Бустинг (Gradient Boosting):\n",
    "\n",
    "Градиентный бустинг также достиг идеальной точности в 1.00.\n",
    "Это указывает на успешное последовательное улучшение модели за счет коррекции ошибок предыдущих моделей.\n",
    "В таком случае, выбор между бэггингом и бустингом может зависеть от других факторов, таких как время обучения, сложность моделей и их интерпретируемость. Возможно, несмотря на идеальные результаты, один из методов может быть более выгодным с точки зрения вычислительной эффективности или простоты модели."
   ],
   "metadata": {
    "collapsed": false
   },
   "id": "565057836cc1ed5e"
  },
  {
   "cell_type": "code",
   "execution_count": 44,
   "outputs": [],
   "source": [],
   "metadata": {
    "collapsed": false,
    "ExecuteTime": {
     "end_time": "2023-11-30T13:55:15.700371100Z",
     "start_time": "2023-11-30T13:55:15.695865200Z"
    }
   },
   "id": "eba8aae42c247a3f"
  }
 ],
 "metadata": {
  "kernelspec": {
   "display_name": "Python 3 (ipykernel)",
   "language": "python",
   "name": "python3"
  },
  "language_info": {
   "codemirror_mode": {
    "name": "ipython",
    "version": 3
   },
   "file_extension": ".py",
   "mimetype": "text/x-python",
   "name": "python",
   "nbconvert_exporter": "python",
   "pygments_lexer": "ipython3",
   "version": "3.11.4"
  }
 },
 "nbformat": 4,
 "nbformat_minor": 5
}
