{
 "cells": [
  {
   "cell_type": "code",
   "execution_count": 3,
   "id": "initial_id",
   "metadata": {
    "ExecuteTime": {
     "end_time": "2023-10-19T13:08:06.124608500Z",
     "start_time": "2023-10-19T13:08:06.103111100Z"
    }
   },
   "outputs": [],
   "source": [
    "import matplotlib.pyplot as plt\n",
    "import pandas as pd\n",
    "import scipy.stats as sts \n",
    "import seaborn as sns\n",
    "import numpy as np\n",
    "\n",
    "data = pd.read_csv(\"C:\\\\Users\\\\grman\\\\Documents\\\\BigPapa\\\\Greg\\\\BigData\\\\DataSet\\\\pr3\\\\insurance.csv\")"
   ]
  },
  {
   "cell_type": "code",
   "execution_count": 4,
   "id": "f34a8ec0541cd7f2",
   "metadata": {
    "ExecuteTime": {
     "end_time": "2023-10-19T13:08:06.283525Z",
     "start_time": "2023-10-19T13:08:06.111605500Z"
    }
   },
   "outputs": [
    {
     "name": "stdout",
     "output_type": "stream",
     "text": [
      "Выборка колонки bmi, длина = 50\n",
      "x(среднее выборки) = 30.529, sd(ст. отклонение) = 0.851, SE = 0.12\n",
      "95% интервал [30.294, 30.764]\n",
      "99% интервал [30.219, 30.839] \n",
      "\n",
      "Выборка колонки bmi, длина = 500\n",
      "x(среднее выборки) = 30.639, sd(ст. отклонение) = 0.226, SE = 0.01\n",
      "95% интервал [30.619, 30.659]\n",
      "99% интервал [30.613, 30.665] \n",
      "\n",
      "Выборка колонки charges, длина = 50\n",
      "x(среднее выборки) = 13267.653, sd(ст. отклонение) = 1759.136, SE = 248.779\n",
      "95% интервал [12780.046, 13755.26]\n",
      "99% интервал [12625.803, 13909.503] \n",
      "\n",
      "Выборка колонки charges, длина = 500\n",
      "x(среднее выборки) = 13242.159, sd(ст. отклонение) = 418.412, SE = 18.712\n",
      "95% интервал [13205.483, 13278.835]\n",
      "99% интервал [13193.882, 13290.436] \n"
     ]
    }
   ],
   "source": [
    "from math import sqrt\n",
    "n = (50, 500) \n",
    "clmn = ['bmi','charges']\n",
    "\n",
    "for k in range(len(clmn)):\n",
    "    for i in range(len(n)):\n",
    "        x = []\n",
    "        for j in range(1, 301):\n",
    "            selection = data[f'{clmn[k]}'].sample(n[i]) #выборка (определенной длины)\n",
    "            mean_selection = selection.mean() #берем среднее значение для этой выборки\n",
    "            x.append(mean_selection) #добавляем в список это среднее, чтобы отразить распределение этих средних выборки определенной длины на гистограмме\n",
    "        mean_x = round(np.mean(x), 3)\n",
    "        std_x = round(np.std(x), 3)\n",
    "        se = round(std_x/sqrt(n[i]), 3)\n",
    "        print(f'Выборка колонки {clmn[k]}, длина = {n[i]}')\n",
    "        print(f'x(среднее выборки) = {mean_x}, sd(ст. отклонение) = {std_x}, SE = {se}')\n",
    "        print(f'95% интервал [{round(mean_x - 1.96 * se, 3)}, {round(mean_x + 1.96 * se, 3)}]')\n",
    "        print(f'99% интервал [{round(mean_x - 2.58 * se, 3)}, {round(mean_x + 2.58 * se, 3)}] \\n')\n",
    "        "
   ]
  }
 ],
 "metadata": {
  "kernelspec": {
   "display_name": "Python 3 (ipykernel)",
   "language": "python",
   "name": "python3"
  },
  "language_info": {
   "codemirror_mode": {
    "name": "ipython",
    "version": 3
   },
   "file_extension": ".py",
   "mimetype": "text/x-python",
   "name": "python",
   "nbconvert_exporter": "python",
   "pygments_lexer": "ipython3",
   "version": "3.11.4"
  }
 },
 "nbformat": 4,
 "nbformat_minor": 5
}
