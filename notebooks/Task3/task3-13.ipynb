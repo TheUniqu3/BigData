{
 "cells": [
  {
   "cell_type": "code",
   "execution_count": 1,
   "id": "initial_id",
   "metadata": {
    "ExecuteTime": {
     "end_time": "2023-10-18T12:16:54.171751Z",
     "start_time": "2023-10-18T12:16:54.162865500Z"
    }
   },
   "outputs": [],
   "source": [
    "import matplotlib.pyplot as plt\n",
    "import pandas as pd\n",
    "import scipy.stats as sts \n",
    "import seaborn as sns\n",
    "import numpy as np\n",
    "\n",
    "data_bmi = pd.read_csv('C:\\\\Users\\\\grman\\\\Documents\\\\BigPapa\\\\Greg\\\\BigData\\\\DataSet\\\\pr3\\\\bmi.csv')"
   ]
  },
  {
   "cell_type": "code",
   "execution_count": 2,
   "id": "f34a8ec0541cd7f2",
   "metadata": {
    "ExecuteTime": {
     "end_time": "2023-10-18T12:16:54.178637Z",
     "start_time": "2023-10-18T12:16:54.171751Z"
    }
   },
   "outputs": [
    {
     "name": "stdout",
     "output_type": "stream",
     "text": [
      "ShapiroResult(statistic=0.9954646825790405, pvalue=0.4655335247516632)\n",
      "ShapiroResult(statistic=0.9949268698692322, pvalue=0.3629520535469055)\n"
     ]
    }
   ],
   "source": [
    "v_north = data_bmi.loc[data_bmi['region'] == 'northwest'].bmi\n",
    "v_south = data_bmi.loc[data_bmi['region'] == 'southwest'].bmi\n",
    "\n",
    "#нормальность (критерий Шопиро-Уилка)\n",
    "k_shapiro_north = sts.shapiro(v_north)\n",
    "k_shapiro_south = sts.shapiro(v_south)\n",
    "print(k_shapiro_north, k_shapiro_south, sep='\\n')"
   ]
  },
  {
   "cell_type": "code",
   "execution_count": 3,
   "outputs": [
    {
     "name": "stdout",
     "output_type": "stream",
     "text": [
      "BartlettResult(statistic=3.4000745256463825, pvalue=0.06519347353580048)\n"
     ]
    }
   ],
   "source": [
    "#гомогенность (критерий Бартлетта)\n",
    "k_bartlett = sts.bartlett(v_north, v_south)\n",
    "print(k_bartlett)"
   ],
   "metadata": {
    "collapsed": false,
    "ExecuteTime": {
     "end_time": "2023-10-18T12:16:54.187596100Z",
     "start_time": "2023-10-18T12:16:54.178637Z"
    }
   },
   "id": "741c4e5bf4c8d099"
  },
  {
   "cell_type": "code",
   "execution_count": 4,
   "outputs": [
    {
     "name": "stdout",
     "output_type": "stream",
     "text": [
      "Ttest_indResult(statistic=-3.2844171500398582, pvalue=0.001076958496307695)\n"
     ]
    }
   ],
   "source": [
    "#проверка выборок на средние значения (t-критерий Стьюдента)\n",
    "t_k = sts.ttest_ind(v_north, v_south)\n",
    "print(t_k)"
   ],
   "metadata": {
    "collapsed": false,
    "ExecuteTime": {
     "end_time": "2023-10-18T12:16:54.197601600Z",
     "start_time": "2023-10-18T12:16:54.186596300Z"
    }
   },
   "id": "90079eee3f3d6dce"
  }
 ],
 "metadata": {
  "kernelspec": {
   "display_name": "Python 3 (ipykernel)",
   "language": "python",
   "name": "python3"
  },
  "language_info": {
   "codemirror_mode": {
    "name": "ipython",
    "version": 3
   },
   "file_extension": ".py",
   "mimetype": "text/x-python",
   "name": "python",
   "nbconvert_exporter": "python",
   "pygments_lexer": "ipython3",
   "version": "3.11.4"
  }
 },
 "nbformat": 4,
 "nbformat_minor": 5
}
