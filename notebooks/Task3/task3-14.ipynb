{
 "cells": [
  {
   "cell_type": "code",
   "execution_count": 1,
   "id": "initial_id",
   "metadata": {
    "ExecuteTime": {
     "end_time": "2023-10-18T12:20:50.784364400Z",
     "start_time": "2023-10-18T12:20:50.773607700Z"
    }
   },
   "outputs": [
    {
     "data": {
      "text/plain": "Power_divergenceResult(statistic=1.44, pvalue=0.9198882077437889)"
     },
     "execution_count": 1,
     "metadata": {},
     "output_type": "execute_result"
    }
   ],
   "source": [
    "import matplotlib.pyplot as plt\n",
    "import pandas as pd\n",
    "import scipy.stats as sts \n",
    "import seaborn as sns\n",
    "import numpy as np\n",
    "\n",
    "observed = (97, 98, 109, 95, 97, 104)\n",
    "expected = (100, 100, 100, 100, 100, 100)\n",
    "sts.chisquare(observed, expected)"
   ]
  },
  {
   "cell_type": "code",
   "execution_count": 2,
   "outputs": [
    {
     "data": {
      "text/plain": "Chi2ContingencyResult(statistic=122.29654948595365, pvalue=1.7291616900960234e-21, dof=10, expected_freq=array([[74.664, 68.136, 61.2  ],\n       [30.378, 27.722, 24.9  ],\n       [24.156, 22.044, 19.8  ],\n       [30.744, 28.056, 25.2  ],\n       [13.176, 12.024, 10.8  ],\n       [ 9.882,  9.018,  8.1  ]]))"
     },
     "execution_count": 2,
     "metadata": {},
     "output_type": "execute_result"
    }
   ],
   "source": [
    "data = pd.DataFrame({'Женат': [89,17,11,43,22,1],\n",
    "                    'Гражданский брак': [80,22,20,35,6,4],\n",
    "                    'Не состоит в отношениях': [35,44,35,6,8,22]})\n",
    "\n",
    "data.index = ['Полный рабочий день','Частичная занятость','Временно не работает','На домохозяйстве','На пенсии','Учёба']\n",
    "sts.chi2_contingency(data)"
   ],
   "metadata": {
    "collapsed": false,
    "ExecuteTime": {
     "end_time": "2023-10-18T12:20:50.810369900Z",
     "start_time": "2023-10-18T12:20:50.783364200Z"
    }
   },
   "id": "7cfa9138da35c1f4"
  }
 ],
 "metadata": {
  "kernelspec": {
   "display_name": "Python 3 (ipykernel)",
   "language": "python",
   "name": "python3"
  },
  "language_info": {
   "codemirror_mode": {
    "name": "ipython",
    "version": 3
   },
   "file_extension": ".py",
   "mimetype": "text/x-python",
   "name": "python",
   "nbconvert_exporter": "python",
   "pygments_lexer": "ipython3",
   "version": "3.11.4"
  }
 },
 "nbformat": 4,
 "nbformat_minor": 5
}
