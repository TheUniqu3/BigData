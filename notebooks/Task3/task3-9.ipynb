{
 "cells": [
  {
   "cell_type": "code",
   "execution_count": 50,
   "id": "initial_id",
   "metadata": {
    "ExecuteTime": {
     "end_time": "2023-10-18T11:40:55.426687800Z",
     "start_time": "2023-10-18T11:40:55.364957100Z"
    }
   },
   "outputs": [],
   "source": [
    "import matplotlib.pyplot as plt\n",
    "import pandas as pd\n",
    "import scipy.stats as sts \n",
    "import seaborn as sns\n",
    "import numpy as np\n",
    "\n",
    "data = pd.read_csv(\"C:\\\\Users\\\\grman\\\\Documents\\\\BigPapa\\\\Greg\\\\BigData\\\\DataSet\\\\pr3\\\\ECDCCases.csv\")"
   ]
  },
  {
   "cell_type": "code",
   "execution_count": 51,
   "id": "f34a8ec0541cd7f2",
   "metadata": {
    "ExecuteTime": {
     "end_time": "2023-10-18T11:40:55.468233300Z",
     "start_time": "2023-10-18T11:40:55.427688900Z"
    }
   },
   "outputs": [
    {
     "data": {
      "text/plain": "dateRep                                                          0\nday                                                              0\nmonth                                                            0\nyear                                                             0\ncases                                                            0\ndeaths                                                           0\ncountriesAndTerritories                                          0\ngeoId                                                          275\ncountryterritoryCode                                           123\npopData2019                                                    123\ncontinentExp                                                     0\nCumulative_number_for_14_days_of_COVID-19_cases_per_100000    2879\ndtype: int64"
     },
     "execution_count": 51,
     "metadata": {},
     "output_type": "execute_result"
    }
   ],
   "source": [
    "data.isna().sum()"
   ]
  },
  {
   "cell_type": "code",
   "execution_count": 52,
   "outputs": [
    {
     "name": "stdout",
     "output_type": "stream",
     "text": [
      "dateRep 0.0%\n",
      "day 0.0%\n",
      "month 0.0%\n",
      "year 0.0%\n",
      "cases 0.0%\n",
      "deaths 0.0%\n",
      "countriesAndTerritories 0.0%\n",
      "geoId 0.00444%\n",
      "countryterritoryCode 0.00199%\n",
      "popData2019 0.00199%\n",
      "continentExp 0.0%\n",
      "Cumulative_number_for_14_days_of_COVID-19_cases_per_100000 0.04651%\n"
     ]
    }
   ],
   "source": [
    "for i in data.columns:\n",
    "   print(f\"{i} {str(round(data[i].isna().sum()/len(data[i]), 5))}%\")\n"
   ],
   "metadata": {
    "collapsed": false,
    "ExecuteTime": {
     "end_time": "2023-10-18T11:40:55.486374200Z",
     "start_time": "2023-10-18T11:40:55.469233900Z"
    }
   },
   "id": "16cdc4d4bec04347"
  },
  {
   "cell_type": "code",
   "execution_count": 53,
   "outputs": [
    {
     "data": {
      "text/plain": "dateRep                    0\nday                        0\nmonth                      0\nyear                       0\ncases                      0\ndeaths                     0\ncountriesAndTerritories    0\ncountryterritoryCode       0\npopData2019                0\ncontinentExp               0\ndtype: int64"
     },
     "execution_count": 53,
     "metadata": {},
     "output_type": "execute_result"
    }
   ],
   "source": [
    "data.drop(['Cumulative_number_for_14_days_of_COVID-19_cases_per_100000', 'geoId'], axis=1, inplace=True)\n",
    "\n",
    "data['countryterritoryCode'].fillna('other', inplace=True)  #заполнение категориального признака\n",
    "data['popData2019'].fillna(data['popData2019'].median(), inplace=True)  #заполнение числового признака\n",
    "data.isna().sum()"
   ],
   "metadata": {
    "collapsed": false,
    "ExecuteTime": {
     "end_time": "2023-10-18T11:40:55.532575Z",
     "start_time": "2023-10-18T11:40:55.486374200Z"
    }
   },
   "id": "93f34f850f9f21b6"
  }
 ],
 "metadata": {
  "kernelspec": {
   "display_name": "Python 3 (ipykernel)",
   "language": "python",
   "name": "python3"
  },
  "language_info": {
   "codemirror_mode": {
    "name": "ipython",
    "version": 3
   },
   "file_extension": ".py",
   "mimetype": "text/x-python",
   "name": "python",
   "nbconvert_exporter": "python",
   "pygments_lexer": "ipython3",
   "version": "3.11.4"
  }
 },
 "nbformat": 4,
 "nbformat_minor": 5
}
