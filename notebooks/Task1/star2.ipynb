{
 "cells": [
  {
   "cell_type": "code",
   "execution_count": 9,
   "id": "initial_id",
   "metadata": {
    "collapsed": true,
    "ExecuteTime": {
     "end_time": "2023-09-09T21:34:59.198433Z",
     "start_time": "2023-09-09T21:34:54.862250300Z"
    }
   },
   "outputs": [],
   "source": [
    "names = {}\n",
    "\n",
    "n = int(input(\"N\"))\n",
    "\n",
    "for i in range(n):\n",
    "    name = input(\"Name\")\n",
    "    if name in names.keys():\n",
    "        names[name + str(names[name])] = 1\n",
    "        names[name] += 1\n",
    "    else:\n",
    "        names[name] = 1"
   ]
  },
  {
   "cell_type": "code",
   "execution_count": 10,
   "outputs": [
    {
     "name": "stdout",
     "output_type": "stream",
     "text": [
      "{'b': 2, 'b1': 2, 'b11': 1}\n"
     ]
    }
   ],
   "source": [
    "print(names)"
   ],
   "metadata": {
    "collapsed": false,
    "ExecuteTime": {
     "end_time": "2023-09-09T21:34:59.199442800Z",
     "start_time": "2023-09-09T21:34:59.179018800Z"
    }
   },
   "id": "4bbc0d03bb4c3fa9"
  },
  {
   "cell_type": "code",
   "execution_count": 10,
   "outputs": [],
   "source": [],
   "metadata": {
    "collapsed": false,
    "ExecuteTime": {
     "end_time": "2023-09-09T21:34:59.199442800Z",
     "start_time": "2023-09-09T21:34:59.188653600Z"
    }
   },
   "id": "9943d9c6c8398756"
  }
 ],
 "metadata": {
  "kernelspec": {
   "display_name": "Python 3",
   "language": "python",
   "name": "python3"
  },
  "language_info": {
   "codemirror_mode": {
    "name": "ipython",
    "version": 2
   },
   "file_extension": ".py",
   "mimetype": "text/x-python",
   "name": "python",
   "nbconvert_exporter": "python",
   "pygments_lexer": "ipython2",
   "version": "2.7.6"
  }
 },
 "nbformat": 4,
 "nbformat_minor": 5
}
