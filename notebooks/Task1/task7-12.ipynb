{
 "cells": [
  {
   "cell_type": "code",
   "execution_count": 15,
   "id": "9c5e1b1448123bac",
   "metadata": {
    "ExecuteTime": {
     "end_time": "2023-09-18T20:08:44.701038400Z",
     "start_time": "2023-09-18T20:08:44.674255200Z"
    }
   },
   "outputs": [],
   "source": [
    "from sklearn.datasets import fetch_california_housing\n",
    "import pandas as pd\n",
    "from pandas import DataFrame\n",
    "\n",
    "data = fetch_california_housing(as_frame=True)\n",
    "data: DataFrame = pd.DataFrame(data.data,columns=data.feature_names)\n",
    "\n",
    "def func(x):\n",
    "    x[\"AveOcuptationIn1Year\"] = x[\"AveOccup\"]*1.23\n",
    "    return x"
   ]
  },
  {
   "cell_type": "code",
   "execution_count": 16,
   "id": "5008effb014e904d",
   "metadata": {
    "ExecuteTime": {
     "end_time": "2023-09-18T20:08:44.728337200Z",
     "start_time": "2023-09-18T20:08:44.690704700Z"
    }
   },
   "outputs": [
    {
     "name": "stdout",
     "output_type": "stream",
     "text": [
      "<class 'pandas.core.frame.DataFrame'>\n",
      "RangeIndex: 20640 entries, 0 to 20639\n",
      "Data columns (total 8 columns):\n",
      " #   Column      Non-Null Count  Dtype  \n",
      "---  ------      --------------  -----  \n",
      " 0   MedInc      20640 non-null  float64\n",
      " 1   HouseAge    20640 non-null  float64\n",
      " 2   AveRooms    20640 non-null  float64\n",
      " 3   AveBedrms   20640 non-null  float64\n",
      " 4   Population  20640 non-null  float64\n",
      " 5   AveOccup    20640 non-null  float64\n",
      " 6   Latitude    20640 non-null  float64\n",
      " 7   Longitude   20640 non-null  float64\n",
      "dtypes: float64(8)\n",
      "memory usage: 1.3 MB\n"
     ]
    }
   ],
   "source": [
    "data.info()\n"
   ]
  },
  {
   "cell_type": "code",
   "execution_count": 17,
   "id": "563699b12000ce03",
   "metadata": {
    "ExecuteTime": {
     "end_time": "2023-09-18T20:08:44.730337500Z",
     "start_time": "2023-09-18T20:08:44.698037300Z"
    }
   },
   "outputs": [
    {
     "data": {
      "text/plain": "MedInc        0\nHouseAge      0\nAveRooms      0\nAveBedrms     0\nPopulation    0\nAveOccup      0\nLatitude      0\nLongitude     0\ndtype: int64"
     },
     "execution_count": 17,
     "metadata": {},
     "output_type": "execute_result"
    }
   ],
   "source": [
    "data.isna().sum()"
   ]
  },
  {
   "cell_type": "code",
   "execution_count": 18,
   "outputs": [
    {
     "data": {
      "text/plain": "       MedInc  HouseAge  AveRooms  AveBedrms  Population    AveOccup  \\\n460    1.4012      52.0  3.105714   1.060000      3337.0    9.534286   \n4131   3.5349      52.0  4.646119   1.047945      2589.0    5.910959   \n4440   2.6806      52.0  4.806283   1.057592      3062.0    4.007853   \n5986   1.8750      52.0  4.500000   1.206349      2688.0   21.333333   \n7369   3.1901      52.0  4.730942   1.017937      3731.0    4.182735   \n8227   2.3305      52.0  3.488860   1.170380      3018.0    3.955439   \n13034  6.1359      52.0  8.275862   1.517241      6675.0  230.172414   \n15634  1.8295      52.0  2.628169   1.053521      2957.0    4.164789   \n15652  0.9000      52.0  2.237474   1.053535      3260.0    2.237474   \n15657  2.5166      52.0  2.839075   1.184049      3436.0    1.621520   \n15659  1.7240      52.0  2.278566   1.082348      4518.0    1.780142   \n15795  2.5755      52.0  3.402576   1.058776      2619.0    2.108696   \n15868  2.8135      52.0  4.584329   1.041169      2987.0    3.966799   \n\n       Latitude  Longitude  \n460       37.87    -122.26  \n4131      34.13    -118.20  \n4440      34.08    -118.21  \n5986      34.10    -117.71  \n7369      33.97    -118.21  \n8227      33.78    -118.20  \n13034     38.69    -121.15  \n15634     37.80    -122.41  \n15652     37.80    -122.41  \n15657     37.79    -122.41  \n15659     37.79    -122.41  \n15795     37.77    -122.42  \n15868     37.76    -122.41  ",
      "text/html": "<div>\n<style scoped>\n    .dataframe tbody tr th:only-of-type {\n        vertical-align: middle;\n    }\n\n    .dataframe tbody tr th {\n        vertical-align: top;\n    }\n\n    .dataframe thead th {\n        text-align: right;\n    }\n</style>\n<table border=\"1\" class=\"dataframe\">\n  <thead>\n    <tr style=\"text-align: right;\">\n      <th></th>\n      <th>MedInc</th>\n      <th>HouseAge</th>\n      <th>AveRooms</th>\n      <th>AveBedrms</th>\n      <th>Population</th>\n      <th>AveOccup</th>\n      <th>Latitude</th>\n      <th>Longitude</th>\n    </tr>\n  </thead>\n  <tbody>\n    <tr>\n      <th>460</th>\n      <td>1.4012</td>\n      <td>52.0</td>\n      <td>3.105714</td>\n      <td>1.060000</td>\n      <td>3337.0</td>\n      <td>9.534286</td>\n      <td>37.87</td>\n      <td>-122.26</td>\n    </tr>\n    <tr>\n      <th>4131</th>\n      <td>3.5349</td>\n      <td>52.0</td>\n      <td>4.646119</td>\n      <td>1.047945</td>\n      <td>2589.0</td>\n      <td>5.910959</td>\n      <td>34.13</td>\n      <td>-118.20</td>\n    </tr>\n    <tr>\n      <th>4440</th>\n      <td>2.6806</td>\n      <td>52.0</td>\n      <td>4.806283</td>\n      <td>1.057592</td>\n      <td>3062.0</td>\n      <td>4.007853</td>\n      <td>34.08</td>\n      <td>-118.21</td>\n    </tr>\n    <tr>\n      <th>5986</th>\n      <td>1.8750</td>\n      <td>52.0</td>\n      <td>4.500000</td>\n      <td>1.206349</td>\n      <td>2688.0</td>\n      <td>21.333333</td>\n      <td>34.10</td>\n      <td>-117.71</td>\n    </tr>\n    <tr>\n      <th>7369</th>\n      <td>3.1901</td>\n      <td>52.0</td>\n      <td>4.730942</td>\n      <td>1.017937</td>\n      <td>3731.0</td>\n      <td>4.182735</td>\n      <td>33.97</td>\n      <td>-118.21</td>\n    </tr>\n    <tr>\n      <th>8227</th>\n      <td>2.3305</td>\n      <td>52.0</td>\n      <td>3.488860</td>\n      <td>1.170380</td>\n      <td>3018.0</td>\n      <td>3.955439</td>\n      <td>33.78</td>\n      <td>-118.20</td>\n    </tr>\n    <tr>\n      <th>13034</th>\n      <td>6.1359</td>\n      <td>52.0</td>\n      <td>8.275862</td>\n      <td>1.517241</td>\n      <td>6675.0</td>\n      <td>230.172414</td>\n      <td>38.69</td>\n      <td>-121.15</td>\n    </tr>\n    <tr>\n      <th>15634</th>\n      <td>1.8295</td>\n      <td>52.0</td>\n      <td>2.628169</td>\n      <td>1.053521</td>\n      <td>2957.0</td>\n      <td>4.164789</td>\n      <td>37.80</td>\n      <td>-122.41</td>\n    </tr>\n    <tr>\n      <th>15652</th>\n      <td>0.9000</td>\n      <td>52.0</td>\n      <td>2.237474</td>\n      <td>1.053535</td>\n      <td>3260.0</td>\n      <td>2.237474</td>\n      <td>37.80</td>\n      <td>-122.41</td>\n    </tr>\n    <tr>\n      <th>15657</th>\n      <td>2.5166</td>\n      <td>52.0</td>\n      <td>2.839075</td>\n      <td>1.184049</td>\n      <td>3436.0</td>\n      <td>1.621520</td>\n      <td>37.79</td>\n      <td>-122.41</td>\n    </tr>\n    <tr>\n      <th>15659</th>\n      <td>1.7240</td>\n      <td>52.0</td>\n      <td>2.278566</td>\n      <td>1.082348</td>\n      <td>4518.0</td>\n      <td>1.780142</td>\n      <td>37.79</td>\n      <td>-122.41</td>\n    </tr>\n    <tr>\n      <th>15795</th>\n      <td>2.5755</td>\n      <td>52.0</td>\n      <td>3.402576</td>\n      <td>1.058776</td>\n      <td>2619.0</td>\n      <td>2.108696</td>\n      <td>37.77</td>\n      <td>-122.42</td>\n    </tr>\n    <tr>\n      <th>15868</th>\n      <td>2.8135</td>\n      <td>52.0</td>\n      <td>4.584329</td>\n      <td>1.041169</td>\n      <td>2987.0</td>\n      <td>3.966799</td>\n      <td>37.76</td>\n      <td>-122.41</td>\n    </tr>\n  </tbody>\n</table>\n</div>"
     },
     "execution_count": 18,
     "metadata": {},
     "output_type": "execute_result"
    }
   ],
   "source": [
    "data.loc[(data.HouseAge>50) & (data.Population>2500)]"
   ],
   "metadata": {
    "collapsed": false,
    "ExecuteTime": {
     "end_time": "2023-09-18T20:08:44.732338100Z",
     "start_time": "2023-09-18T20:08:44.706314700Z"
    }
   },
   "id": "b0b04104ab06825a"
  },
  {
   "cell_type": "code",
   "execution_count": 19,
   "outputs": [
    {
     "data": {
      "text/plain": "15.0001"
     },
     "execution_count": 19,
     "metadata": {},
     "output_type": "execute_result"
    }
   ],
   "source": [
    "data.MedInc.max()"
   ],
   "metadata": {
    "collapsed": false,
    "ExecuteTime": {
     "end_time": "2023-09-18T20:08:44.734362800Z",
     "start_time": "2023-09-18T20:08:44.726336900Z"
    }
   },
   "id": "d9f41df693455bfe"
  },
  {
   "cell_type": "code",
   "execution_count": 20,
   "outputs": [
    {
     "data": {
      "text/plain": "0.4999"
     },
     "execution_count": 20,
     "metadata": {},
     "output_type": "execute_result"
    }
   ],
   "source": [
    "data.MedInc.min()"
   ],
   "metadata": {
    "collapsed": false,
    "ExecuteTime": {
     "end_time": "2023-09-18T20:08:44.743870700Z",
     "start_time": "2023-09-18T20:08:44.731338500Z"
    }
   },
   "id": "f84d5027a66aeebe"
  },
  {
   "cell_type": "code",
   "execution_count": 21,
   "outputs": [
    {
     "name": "stdout",
     "output_type": "stream",
     "text": [
      "MedInc                     3.534800\n",
      "HouseAge                  29.000000\n",
      "AveRooms                   5.229129\n",
      "AveBedrms                  1.048780\n",
      "Population              1166.000000\n",
      "AveOccup                   2.818116\n",
      "Latitude                  34.260000\n",
      "Longitude               -118.490000\n",
      "AveOcuptationIn1Year       3.466282\n",
      "dtype: float64\n"
     ]
    }
   ],
   "source": [
    "a = data.apply(func, axis=1)\n",
    "print(a.median())"
   ],
   "metadata": {
    "collapsed": false,
    "ExecuteTime": {
     "end_time": "2023-09-18T20:08:52.111592200Z",
     "start_time": "2023-09-18T20:08:44.738869200Z"
    }
   },
   "id": "fb9eb9a0cc1d3d98"
  },
  {
   "cell_type": "code",
   "execution_count": 21,
   "outputs": [],
   "source": [],
   "metadata": {
    "collapsed": false,
    "ExecuteTime": {
     "end_time": "2023-09-18T20:08:52.116597Z",
     "start_time": "2023-09-18T20:08:52.112591900Z"
    }
   },
   "id": "848ba1e5cd640540"
  }
 ],
 "metadata": {
  "kernelspec": {
   "display_name": "Python 3 (ipykernel)",
   "language": "python",
   "name": "python3"
  },
  "language_info": {
   "codemirror_mode": {
    "name": "ipython",
    "version": 3
   },
   "file_extension": ".py",
   "mimetype": "text/x-python",
   "name": "python",
   "nbconvert_exporter": "python",
   "pygments_lexer": "ipython3",
   "version": "3.11.4"
  }
 },
 "nbformat": 4,
 "nbformat_minor": 5
}
