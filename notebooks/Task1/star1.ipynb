{
 "cells": [
  {
   "cell_type": "code",
   "execution_count": 5,
   "id": "initial_id",
   "metadata": {
    "collapsed": true,
    "ExecuteTime": {
     "end_time": "2023-09-09T21:28:45.960542700Z",
     "start_time": "2023-09-09T21:28:34.658363100Z"
    }
   },
   "outputs": [
    {
     "name": "stdout",
     "output_type": "stream",
     "text": [
      ".. --. -. .. - .. --- -. \n",
      " ... . --.- ..- . -. -.-. . \n",
      " ... - .- .-. - "
     ]
    }
   ],
   "source": [
    "morze = {'a': '.-', 'b': '-...', 'c': '-.-.', 'd': '-..',\n",
    "'e': '.', 'f': '..-.', 'g': '--.', 'h': '....',\n",
    "'i': '..', 'j': '.---', 'k': '-.-', 'l': '.-..',\n",
    "'m': '--', 'n': '-.', 'o': '---', 'p': '.--.',\n",
    "'q': '--.-', 'r': '.-.', 's': '...', 't': '-',\n",
    "'u': '..-', 'v': '...-', 'w': '.--', 'x': '-..-',\n",
    "'y': '-.--', 'z': '--..', ' ': '\\n'}\n",
    "\n",
    "string = input(\"String\")\n",
    "for symbol in string:\n",
    "    print(morze[symbol.lower()],end=' ')"
   ]
  },
  {
   "cell_type": "code",
   "execution_count": null,
   "outputs": [],
   "source": [],
   "metadata": {
    "collapsed": false
   },
   "id": "20b3e4b3837e13a8"
  }
 ],
 "metadata": {
  "kernelspec": {
   "display_name": "Python 3",
   "language": "python",
   "name": "python3"
  },
  "language_info": {
   "codemirror_mode": {
    "name": "ipython",
    "version": 2
   },
   "file_extension": ".py",
   "mimetype": "text/x-python",
   "name": "python",
   "nbconvert_exporter": "python",
   "pygments_lexer": "ipython2",
   "version": "2.7.6"
  }
 },
 "nbformat": 4,
 "nbformat_minor": 5
}
