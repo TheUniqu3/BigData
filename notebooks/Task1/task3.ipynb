{
 "cells": [
  {
   "cell_type": "code",
   "execution_count": 21,
   "id": "initial_id",
   "metadata": {
    "collapsed": true,
    "ExecuteTime": {
     "end_time": "2023-09-17T14:44:26.668352700Z",
     "start_time": "2023-09-17T14:44:18.545565300Z"
    }
   },
   "outputs": [],
   "source": [
    "N1, sign, N2 = [i for i in input(\"Enter your equation (Number Operation Number)\").split()]\n"
   ]
  },
  {
   "cell_type": "code",
   "execution_count": 22,
   "outputs": [
    {
     "name": "stdout",
     "output_type": "stream",
     "text": [
      "20.0\n"
     ]
    }
   ],
   "source": [
    "import math\n",
    "\n",
    "N1= float(N1)\n",
    "N2 = float(N2)\n",
    "match sign:\n",
    "    case '+':\n",
    "        print(N1 + N2 )\n",
    "    case '-':\n",
    "        print(N1 - N2 )\n",
    "    case '*':\n",
    "        print(N1 * N2 )\n",
    "    case '/':\n",
    "        print(N1 / N2 )\n",
    "    case '//':\n",
    "        print(N1 // N2 )\n",
    "    case 'abs':\n",
    "        print(abs(N1), abs(N2))\n",
    "    case 'pow':\n",
    "        print(pow(N1, N2))\n",
    "    case '**':\n",
    "        print(N1 ** N2 )"
   ],
   "metadata": {
    "collapsed": false,
    "ExecuteTime": {
     "end_time": "2023-09-17T14:44:26.669353700Z",
     "start_time": "2023-09-17T14:44:26.655811200Z"
    }
   },
   "id": "6f6af628d426d208"
  }
 ],
 "metadata": {
  "kernelspec": {
   "display_name": "Python 3",
   "language": "python",
   "name": "python3"
  },
  "language_info": {
   "codemirror_mode": {
    "name": "ipython",
    "version": 2
   },
   "file_extension": ".py",
   "mimetype": "text/x-python",
   "name": "python",
   "nbconvert_exporter": "python",
   "pygments_lexer": "ipython2",
   "version": "2.7.6"
  }
 },
 "nbformat": 4,
 "nbformat_minor": 5
}
