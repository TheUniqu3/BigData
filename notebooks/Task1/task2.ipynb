{
 "cells": [
  {
   "cell_type": "code",
   "execution_count": 16,
   "outputs": [],
   "source": [
    "T1, T2, T3 = [int(i) for i in input(\"triangle\").split()]\n",
    "R1, R2 = [int(i) for i in input(\"rectangle\").split()]\n",
    "R = int(input(\"circle\"))\n",
    "answer = {\"Triangle\": 0, \"Rectangle\": 0, \"Circle\": 0}"
   ],
   "metadata": {
    "collapsed": false,
    "ExecuteTime": {
     "end_time": "2023-09-17T14:29:42.749097200Z",
     "start_time": "2023-09-17T14:29:36.549199200Z"
    }
   },
   "id": "c362a0b1c8c9d01"
  },
  {
   "cell_type": "code",
   "execution_count": 17,
   "outputs": [],
   "source": [
    "import math\n",
    "\n",
    "# area of triangle\n",
    "p = (T1 + T2 + T3) / 2\n",
    "answer[\"Triangle\"] = math.sqrt(p * (p - T1) * (p - T2) * (p - T3))\n",
    "\n",
    "# area of rectangle\n",
    "answer[\"Rectangle\"] = R1 * R2\n",
    "\n",
    "# area of circle\n",
    "answer[\"Circle\"] = math.pi*R**2"
   ],
   "metadata": {
    "collapsed": false,
    "ExecuteTime": {
     "end_time": "2023-09-17T14:29:42.753094200Z",
     "start_time": "2023-09-17T14:29:42.742384300Z"
    }
   },
   "id": "initial_id"
  },
  {
   "cell_type": "code",
   "execution_count": 18,
   "outputs": [
    {
     "name": "stdout",
     "output_type": "stream",
     "text": [
      "{'Triangle': 6.0, 'Rectangle': 100, 'Circle': 314.1592653589793}\n"
     ]
    }
   ],
   "source": [
    "print(answer)"
   ],
   "metadata": {
    "collapsed": false,
    "ExecuteTime": {
     "end_time": "2023-09-17T14:29:42.757609700Z",
     "start_time": "2023-09-17T14:29:42.748588Z"
    }
   },
   "id": "a14a6d282b8bde75"
  }
 ],
 "metadata": {
  "kernelspec": {
   "display_name": "Python 3",
   "language": "python",
   "name": "python3"
  },
  "language_info": {
   "codemirror_mode": {
    "name": "ipython",
    "version": 2
   },
   "file_extension": ".py",
   "mimetype": "text/x-python",
   "name": "python",
   "nbconvert_exporter": "python",
   "pygments_lexer": "ipython2",
   "version": "2.7.6"
  }
 },
 "nbformat": 4,
 "nbformat_minor": 5
}
