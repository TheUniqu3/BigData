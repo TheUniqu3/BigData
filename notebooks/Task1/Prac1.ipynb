{
 "cells": [
  {
   "cell_type": "markdown",
   "source": [
    "### Task 1"
   ],
   "metadata": {
    "collapsed": false
   },
   "id": "f2e6bf373945ffbe"
  },
  {
   "cell_type": "markdown",
   "source": [
    "#### 1"
   ],
   "metadata": {
    "collapsed": false
   },
   "id": "bacadced6fd87485"
  },
  {
   "cell_type": "code",
   "execution_count": null,
   "outputs": [],
   "source": [
    "T1, T2, T3 = [int(i) for i in input(\"triangle\").split()]\n",
    "R1, R2 = [int(i) for i in input(\"rectangle\").split()]\n",
    "R = int(input(\"circle\"))\n",
    "answer = {\"Triangle\": 0, \"Rectangle\": 0, \"Circle\": 0}"
   ],
   "metadata": {
    "collapsed": false
   },
   "id": "3182267ae611a1bc"
  },
  {
   "cell_type": "code",
   "execution_count": null,
   "outputs": [],
   "source": [
    "import math\n",
    "\n",
    "# area of triangle\n",
    "p = (T1 + T2 + T3) / 2\n",
    "answer[\"Triangle\"] = math.sqrt(p * (p - T1) * (p - T2) * (p - T3))\n",
    "\n",
    "# area of rectangle\n",
    "answer[\"Rectangle\"] = R1 * R2\n",
    "\n",
    "# area of circle\n",
    "answer[\"Circle\"] = math.pi*R**2"
   ],
   "metadata": {
    "collapsed": false
   },
   "id": "8dbf9542f56831fa"
  },
  {
   "cell_type": "markdown",
   "source": [
    "#### 3"
   ],
   "metadata": {
    "collapsed": false
   },
   "id": "37ca2a282d3327e5"
  },
  {
   "cell_type": "code",
   "execution_count": null,
   "outputs": [],
   "source": [
    "N1, sign, N2 = [i for i in input(\"Enter your equation (Number Operation Number)\").split()]\n"
   ],
   "metadata": {
    "collapsed": false
   },
   "id": "3a814ec95992ebf1"
  }
 ],
 "metadata": {
  "kernelspec": {
   "display_name": "Python 3",
   "language": "python",
   "name": "python3"
  },
  "language_info": {
   "codemirror_mode": {
    "name": "ipython",
    "version": 2
   },
   "file_extension": ".py",
   "mimetype": "text/x-python",
   "name": "python",
   "nbconvert_exporter": "python",
   "pygments_lexer": "ipython2",
   "version": "2.7.6"
  }
 },
 "nbformat": 4,
 "nbformat_minor": 5
}
