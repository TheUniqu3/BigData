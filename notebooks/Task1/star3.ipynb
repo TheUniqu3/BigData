{
 "cells": [
  {
   "cell_type": "markdown",
   "source": [
    "r w x b\n",
    "0 0 0 0\n",
    "0 0 1 1\n",
    "0 1 0 2\n",
    "0 1 1 3\n",
    "1 0 0 4\n",
    "1 0 1 5\n",
    "1 1 0 6\n",
    "1 1 1 7"
   ],
   "metadata": {
    "collapsed": false
   },
   "id": "df62157112661e80"
  },
  {
   "cell_type": "code",
   "execution_count": 12,
   "outputs": [
    {
     "name": "stdout",
     "output_type": "stream",
     "text": [
      "Access denied\n",
      "OK\n",
      "OK\n",
      "OK\n",
      "OK\n"
     ]
    }
   ],
   "source": [
    "n = int(input(\"N\"))\n",
    "modes = {'r': 4, 'w': 2, 'x': 1}\n",
    "new_modes = {'read': 4, 'write': 2, 'execute': 1}\n",
    "file_modes = {}\n",
    "for i in range(n):\n",
    "    file, mode = input(\"File Mode\").split(' ', 1)\n",
    "    file_modes[file] = 0\n",
    "    for j in mode.split():\n",
    "        file_modes[file] |= modes[j]\n",
    "m = int(input(\"M\"))\n",
    "for i in range(m):\n",
    "    mode, file = input(\"Mode File\").split()\n",
    "    if file_modes[file] & new_modes[mode]:\n",
    "        print(\"OK\")\n",
    "    else:\n",
    "        print(\"Access denied\")"
   ],
   "metadata": {
    "collapsed": false,
    "ExecuteTime": {
     "end_time": "2023-09-09T22:29:14.689694300Z",
     "start_time": "2023-09-09T22:28:18.004179400Z"
    }
   },
   "id": "929019ea3ac59e5d"
  },
  {
   "cell_type": "code",
   "execution_count": 13,
   "outputs": [
    {
     "name": "stdout",
     "output_type": "stream",
     "text": [
      "True\n"
     ]
    }
   ],
   "source": [
    "print(bool(6 & 4))"
   ],
   "metadata": {
    "collapsed": false,
    "ExecuteTime": {
     "end_time": "2023-09-09T22:29:14.689694300Z",
     "start_time": "2023-09-09T22:29:14.631289700Z"
    }
   },
   "id": "b4c3f16b3fa57262"
  },
  {
   "cell_type": "code",
   "execution_count": 13,
   "outputs": [],
   "source": [],
   "metadata": {
    "collapsed": false,
    "ExecuteTime": {
     "end_time": "2023-09-09T22:29:14.690693800Z",
     "start_time": "2023-09-09T22:29:14.642702500Z"
    }
   },
   "id": "80ab49aaf057909e"
  }
 ],
 "metadata": {
  "kernelspec": {
   "display_name": "Python 3",
   "language": "python",
   "name": "python3"
  },
  "language_info": {
   "codemirror_mode": {
    "name": "ipython",
    "version": 2
   },
   "file_extension": ".py",
   "mimetype": "text/x-python",
   "name": "python",
   "nbconvert_exporter": "python",
   "pygments_lexer": "ipython2",
   "version": "2.7.6"
  }
 },
 "nbformat": 4,
 "nbformat_minor": 5
}
