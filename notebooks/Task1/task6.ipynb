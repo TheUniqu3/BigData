{
 "cells": [
  {
   "cell_type": "code",
   "execution_count": 1,
   "outputs": [],
   "source": [
    "a = [1, 2, 3, 4, 2, 1, 3, 4, 5, 6, 5, 4, 3, 2]\n",
    "b = [\"a\", \"b\", \"c\", \"c\", \"c\", \"b\", \"a\", \"c\", \"a\", \"a\", \"b\", \"c\", \"b\", \"a\"]\n",
    "ans = {}\n",
    "for i in range(len(a)):\n",
    "    if b[i] in ans.keys():\n",
    "        ans[b[i]]+=a[i]\n",
    "    else:\n",
    "        ans[b[i]]=a[i]"
   ],
   "metadata": {
    "collapsed": false,
    "ExecuteTime": {
     "end_time": "2023-09-18T12:20:25.388081Z",
     "start_time": "2023-09-18T12:20:25.363683Z"
    }
   },
   "id": "ff5d80852fbda5fa"
  },
  {
   "cell_type": "code",
   "execution_count": 2,
   "id": "initial_id",
   "metadata": {
    "collapsed": true,
    "ExecuteTime": {
     "end_time": "2023-09-18T12:20:25.390081800Z",
     "start_time": "2023-09-18T12:20:25.369685500Z"
    }
   },
   "outputs": [
    {
     "name": "stdout",
     "output_type": "stream",
     "text": [
      "{'a': 17, 'b': 11, 'c': 17}\n"
     ]
    }
   ],
   "source": [
    "print(ans)"
   ]
  }
 ],
 "metadata": {
  "kernelspec": {
   "display_name": "Python 3",
   "language": "python",
   "name": "python3"
  },
  "language_info": {
   "codemirror_mode": {
    "name": "ipython",
    "version": 2
   },
   "file_extension": ".py",
   "mimetype": "text/x-python",
   "name": "python",
   "nbconvert_exporter": "python",
   "pygments_lexer": "ipython2",
   "version": "2.7.6"
  }
 },
 "nbformat": 4,
 "nbformat_minor": 5
}
