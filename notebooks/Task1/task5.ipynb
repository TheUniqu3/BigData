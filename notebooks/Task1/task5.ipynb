{
 "cells": [
  {
   "cell_type": "code",
   "execution_count": 50,
   "id": "initial_id",
   "metadata": {
    "collapsed": true,
    "ExecuteTime": {
     "end_time": "2023-09-17T17:49:14.441634Z",
     "start_time": "2023-09-17T17:49:14.430860700Z"
    }
   },
   "outputs": [],
   "source": [
    "def Sum(n)-> list[int]:\n",
    "    ans = []\n",
    "    for x in range(1,n):\n",
    "        for i in range(x):\n",
    "            if len(ans)<n:\n",
    "                 ans.append(x)\n",
    "            else: \n",
    "                return ans\n",
    "   "
   ]
  },
  {
   "cell_type": "code",
   "execution_count": 51,
   "outputs": [
    {
     "name": "stdout",
     "output_type": "stream",
     "text": [
      "1 2 2 3 3 3 4 4 4 4 5 5 5 5 5\n"
     ]
    }
   ],
   "source": [
    "n = int(input(\"N\"))\n",
    "print(*Sum(n))"
   ],
   "metadata": {
    "collapsed": false,
    "ExecuteTime": {
     "end_time": "2023-09-17T17:49:15.679914200Z",
     "start_time": "2023-09-17T17:49:14.434633500Z"
    }
   },
   "id": "ce7637949549b810"
  }
 ],
 "metadata": {
  "kernelspec": {
   "display_name": "Python 3",
   "language": "python",
   "name": "python3"
  },
  "language_info": {
   "codemirror_mode": {
    "name": "ipython",
    "version": 2
   },
   "file_extension": ".py",
   "mimetype": "text/x-python",
   "name": "python",
   "nbconvert_exporter": "python",
   "pygments_lexer": "ipython2",
   "version": "2.7.6"
  }
 },
 "nbformat": 4,
 "nbformat_minor": 5
}
