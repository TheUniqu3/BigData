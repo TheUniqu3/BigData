{
 "cells": [
  {
   "cell_type": "markdown",
   "id": "5da36c6b",
   "metadata": {},
   "source": [
    "# Практика 4"
   ]
  },
  {
   "cell_type": "markdown",
   "id": "b10ee4d9",
   "metadata": {},
   "source": []
  },
  {
   "cell_type": "markdown",
   "id": "cb83a2b1",
   "metadata": {},
   "source": [
    "### 1.1"
   ]
  },
  {
   "cell_type": "code",
   "execution_count": 681,
   "id": "9ad4ef5f",
   "metadata": {
    "ExecuteTime": {
     "end_time": "2023-11-09T18:50:18.951371600Z",
     "start_time": "2023-11-09T18:50:18.865738600Z"
    }
   },
   "outputs": [
    {
     "data": {
      "text/plain": "-0.9999999999999998"
     },
     "execution_count": 681,
     "metadata": {},
     "output_type": "execute_result"
    }
   ],
   "source": [
    "import numpy as np\n",
    "import statsmodels.stats.multicomp\n",
    "\n",
    "street = np.array([80,98,75,91,78])\n",
    "garage = np.array([100,82,105,89,102])\n",
    "np.corrcoef(street, garage)[0,1]\n",
    " \n"
   ]
  },
  {
   "cell_type": "markdown",
   "id": "ae93356d",
   "metadata": {},
   "source": [
    "### 1.2"
   ]
  },
  {
   "cell_type": "code",
   "execution_count": 682,
   "id": "889ac88a",
   "metadata": {
    "ExecuteTime": {
     "end_time": "2023-11-09T18:50:19.295853300Z",
     "start_time": "2023-11-09T18:50:18.872174300Z"
    }
   },
   "outputs": [
    {
     "data": {
      "text/plain": "<matplotlib.collections.PathCollection at 0x1f0a73c2d90>"
     },
     "execution_count": 682,
     "metadata": {},
     "output_type": "execute_result"
    },
    {
     "data": {
      "text/plain": "<Figure size 640x480 with 1 Axes>",
      "image/png": "[encoded data removed]"
     },
     "metadata": {},
     "output_type": "display_data"
    }
   ],
   "source": [
    "import matplotlib.pyplot as plt\n",
    "\n",
    "\n",
    "plt.grid(True)\n",
    "plt.title('Диаграмма рассеяния',fontsize=20)\n",
    "plt.xlabel('автомобили на улице')\n",
    "plt.ylabel('автомобили на в гараже')\n",
    "plt.scatter(street,garage ,marker ='o' ,color = 'blue')\n"
   ]
  },
  {
   "cell_type": "markdown",
   "id": "e67f773a",
   "metadata": {},
   "source": [
    "## 2"
   ]
  },
  {
   "cell_type": "code",
   "execution_count": 683,
   "id": "117c1fc2",
   "metadata": {
    "ExecuteTime": {
     "end_time": "2023-11-09T18:50:19.372789900Z",
     "start_time": "2023-11-09T18:50:19.116065200Z"
    }
   },
   "outputs": [
    {
     "data": {
      "text/plain": "   appid                       name release_date  english         developer  \\\n0     10             Counter-Strike   2000-11-01        1             Valve   \n1     20      Team Fortress Classic   1999-04-01        1             Valve   \n2     30              Day of Defeat   2003-05-01        1             Valve   \n3     40         Deathmatch Classic   2001-06-01        1             Valve   \n4     50  Half-Life: Opposing Force   1999-11-01        1  Gearbox Software   \n\n  publisher          platforms  required_age  \\\n0     Valve  windows;mac;linux             0   \n1     Valve  windows;mac;linux             0   \n2     Valve  windows;mac;linux             0   \n3     Valve  windows;mac;linux             0   \n4     Valve  windows;mac;linux             0   \n\n                                          categories  genres  \\\n0  Multi-player;Online Multi-Player;Local Multi-P...  Action   \n1  Multi-player;Online Multi-Player;Local Multi-P...  Action   \n2              Multi-player;Valve Anti-Cheat enabled  Action   \n3  Multi-player;Online Multi-Player;Local Multi-P...  Action   \n4  Single-player;Multi-player;Valve Anti-Cheat en...  Action   \n\n                  steamspy_tags  achievements  positive_ratings  \\\n0        Action;FPS;Multiplayer             0            124534   \n1        Action;FPS;Multiplayer             0              3318   \n2  FPS;World War II;Multiplayer             0              3416   \n3        Action;FPS;Multiplayer             0              1273   \n4             FPS;Action;Sci-fi             0              5250   \n\n   negative_ratings  average_playtime  median_playtime             owners  \\\n0              3339             17612              317  10000000-20000000   \n1               633               277               62   5000000-10000000   \n2               398               187               34   5000000-10000000   \n3               267               258              184   5000000-10000000   \n4               288               624              415   5000000-10000000   \n\n   price  \n0   7.19  \n1   3.99  \n2   3.99  \n3   3.99  \n4   3.99  ",
      "text/html": "<div>\n<style scoped>\n    .dataframe tbody tr th:only-of-type {\n        vertical-align: middle;\n    }\n\n    .dataframe tbody tr th {\n        vertical-align: top;\n    }\n\n    .dataframe thead th {\n        text-align: right;\n    }\n</style>\n<table border=\"1\" class=\"dataframe\">\n  <thead>\n    <tr style=\"text-align: right;\">\n      <th></th>\n      <th>appid</th>\n      <th>name</th>\n      <th>release_date</th>\n      <th>english</th>\n      <th>developer</th>\n      <th>publisher</th>\n      <th>platforms</th>\n      <th>required_age</th>\n      <th>categories</th>\n      <th>genres</th>\n      <th>steamspy_tags</th>\n      <th>achievements</th>\n      <th>positive_ratings</th>\n      <th>negative_ratings</th>\n      <th>average_playtime</th>\n      <th>median_playtime</th>\n      <th>owners</th>\n      <th>price</th>\n    </tr>\n  </thead>\n  <tbody>\n    <tr>\n      <th>0</th>\n      <td>10</td>\n      <td>Counter-Strike</td>\n      <td>2000-11-01</td>\n      <td>1</td>\n      <td>Valve</td>\n      <td>Valve</td>\n      <td>windows;mac;linux</td>\n      <td>0</td>\n      <td>Multi-player;Online Multi-Player;Local Multi-P...</td>\n      <td>Action</td>\n      <td>Action;FPS;Multiplayer</td>\n      <td>0</td>\n      <td>124534</td>\n      <td>3339</td>\n      <td>17612</td>\n      <td>317</td>\n      <td>10000000-20000000</td>\n      <td>7.19</td>\n    </tr>\n    <tr>\n      <th>1</th>\n      <td>20</td>\n      <td>Team Fortress Classic</td>\n      <td>1999-04-01</td>\n      <td>1</td>\n      <td>Valve</td>\n      <td>Valve</td>\n      <td>windows;mac;linux</td>\n      <td>0</td>\n      <td>Multi-player;Online Multi-Player;Local Multi-P...</td>\n      <td>Action</td>\n      <td>Action;FPS;Multiplayer</td>\n      <td>0</td>\n      <td>3318</td>\n      <td>633</td>\n      <td>277</td>\n      <td>62</td>\n      <td>5000000-10000000</td>\n      <td>3.99</td>\n    </tr>\n    <tr>\n      <th>2</th>\n      <td>30</td>\n      <td>Day of Defeat</td>\n      <td>2003-05-01</td>\n      <td>1</td>\n      <td>Valve</td>\n      <td>Valve</td>\n      <td>windows;mac;linux</td>\n      <td>0</td>\n      <td>Multi-player;Valve Anti-Cheat enabled</td>\n      <td>Action</td>\n      <td>FPS;World War II;Multiplayer</td>\n      <td>0</td>\n      <td>3416</td>\n      <td>398</td>\n      <td>187</td>\n      <td>34</td>\n      <td>5000000-10000000</td>\n      <td>3.99</td>\n    </tr>\n    <tr>\n      <th>3</th>\n      <td>40</td>\n      <td>Deathmatch Classic</td>\n      <td>2001-06-01</td>\n      <td>1</td>\n      <td>Valve</td>\n      <td>Valve</td>\n      <td>windows;mac;linux</td>\n      <td>0</td>\n      <td>Multi-player;Online Multi-Player;Local Multi-P...</td>\n      <td>Action</td>\n      <td>Action;FPS;Multiplayer</td>\n      <td>0</td>\n      <td>1273</td>\n      <td>267</td>\n      <td>258</td>\n      <td>184</td>\n      <td>5000000-10000000</td>\n      <td>3.99</td>\n    </tr>\n    <tr>\n      <th>4</th>\n      <td>50</td>\n      <td>Half-Life: Opposing Force</td>\n      <td>1999-11-01</td>\n      <td>1</td>\n      <td>Gearbox Software</td>\n      <td>Valve</td>\n      <td>windows;mac;linux</td>\n      <td>0</td>\n      <td>Single-player;Multi-player;Valve Anti-Cheat en...</td>\n      <td>Action</td>\n      <td>FPS;Action;Sci-fi</td>\n      <td>0</td>\n      <td>5250</td>\n      <td>288</td>\n      <td>624</td>\n      <td>415</td>\n      <td>5000000-10000000</td>\n      <td>3.99</td>\n    </tr>\n  </tbody>\n</table>\n</div>"
     },
     "execution_count": 683,
     "metadata": {},
     "output_type": "execute_result"
    }
   ],
   "source": [
    "import pandas as pd\n",
    "data = pd.read_csv(\"C:\\\\Users\\\\grman\\\\Documents\\\\BigPapa\\\\Greg\\\\BigData\\\\DataSet\\\\pr2\\\\steam.csv\")\n",
    "data.head()"
   ]
  },
  {
   "cell_type": "code",
   "execution_count": 684,
   "outputs": [
    {
     "name": "stdout",
     "output_type": "stream",
     "text": [
      "<class 'pandas.core.frame.DataFrame'>\n",
      "RangeIndex: 27075 entries, 0 to 27074\n",
      "Data columns (total 18 columns):\n",
      " #   Column            Non-Null Count  Dtype  \n",
      "---  ------            --------------  -----  \n",
      " 0   appid             27075 non-null  int64  \n",
      " 1   name              27075 non-null  object \n",
      " 2   release_date      27075 non-null  object \n",
      " 3   english           27075 non-null  int64  \n",
      " 4   developer         27075 non-null  object \n",
      " 5   publisher         27075 non-null  object \n",
      " 6   platforms         27075 non-null  object \n",
      " 7   required_age      27075 non-null  int64  \n",
      " 8   categories        27075 non-null  object \n",
      " 9   genres            27075 non-null  object \n",
      " 10  steamspy_tags     27075 non-null  object \n",
      " 11  achievements      27075 non-null  int64  \n",
      " 12  positive_ratings  27075 non-null  int64  \n",
      " 13  negative_ratings  27075 non-null  int64  \n",
      " 14  average_playtime  27075 non-null  int64  \n",
      " 15  median_playtime   27075 non-null  int64  \n",
      " 16  owners            27075 non-null  object \n",
      " 17  price             27075 non-null  float64\n",
      "dtypes: float64(1), int64(8), object(9)\n",
      "memory usage: 3.7+ MB\n"
     ]
    }
   ],
   "source": [
    "data.info()"
   ],
   "metadata": {
    "collapsed": false,
    "ExecuteTime": {
     "end_time": "2023-11-09T18:50:19.372789900Z",
     "start_time": "2023-11-09T18:50:19.231356400Z"
    }
   },
   "id": "bde267a9c1773d4e"
  },
  {
   "cell_type": "code",
   "execution_count": 685,
   "outputs": [],
   "source": [
    "data.drop_duplicates(inplace=True)"
   ],
   "metadata": {
    "collapsed": false,
    "ExecuteTime": {
     "end_time": "2023-11-09T18:50:19.376790700Z",
     "start_time": "2023-11-09T18:50:19.273267Z"
    }
   },
   "id": "8a859e1d1109a663"
  },
  {
   "cell_type": "code",
   "execution_count": 686,
   "outputs": [
    {
     "data": {
      "text/plain": "appid               0\nname                0\nrelease_date        0\nenglish             0\ndeveloper           0\npublisher           0\nplatforms           0\nrequired_age        0\ncategories          0\ngenres              0\nsteamspy_tags       0\nachievements        0\npositive_ratings    0\nnegative_ratings    0\naverage_playtime    0\nmedian_playtime     0\nowners              0\nprice               0\ndtype: int64"
     },
     "execution_count": 686,
     "metadata": {},
     "output_type": "execute_result"
    }
   ],
   "source": [
    "data.isna().sum()"
   ],
   "metadata": {
    "collapsed": false,
    "ExecuteTime": {
     "end_time": "2023-11-09T18:50:19.387374700Z",
     "start_time": "2023-11-09T18:50:19.311701200Z"
    }
   },
   "id": "87e96263418c56e5"
  },
  {
   "cell_type": "code",
   "execution_count": 687,
   "outputs": [
    {
     "data": {
      "text/plain": "1    26564\n0      511\nName: english, dtype: int64"
     },
     "execution_count": 687,
     "metadata": {},
     "output_type": "execute_result"
    }
   ],
   "source": [
    "data.english.value_counts()"
   ],
   "metadata": {
    "collapsed": false,
    "ExecuteTime": {
     "end_time": "2023-11-09T18:50:19.387374700Z",
     "start_time": "2023-11-09T18:50:19.350164Z"
    }
   },
   "id": "7d2ddcae253c80d2"
  },
  {
   "cell_type": "code",
   "execution_count": 688,
   "outputs": [],
   "source": [
    "data.drop(['english'], axis=1, inplace=True)"
   ],
   "metadata": {
    "collapsed": false,
    "ExecuteTime": {
     "end_time": "2023-11-09T18:50:19.388374900Z",
     "start_time": "2023-11-09T18:50:19.356277700Z"
    }
   },
   "id": "9bdd86cc8b52b1c3"
  },
  {
   "cell_type": "code",
   "execution_count": 689,
   "outputs": [],
   "source": [
    "#convert to mueric types\n",
    "##release date \n",
    "data['release_date'] = [i.split('-')[0] for i in data['release_date']]\n",
    "data['release_date'] = data['release_date'].apply(pd.to_numeric)\n",
    "##owners\n",
    "data['owners'] = [i.split('-')[1]for i in data['owners']]\n",
    "data['owners'] = data['owners'].apply(pd.to_numeric)"
   ],
   "metadata": {
    "collapsed": false,
    "ExecuteTime": {
     "end_time": "2023-11-09T18:50:20.220702600Z",
     "start_time": "2023-11-09T18:50:19.370789500Z"
    }
   },
   "id": "e4dcaabf8c70cab2"
  },
  {
   "cell_type": "code",
   "execution_count": 690,
   "outputs": [
    {
     "data": {
      "text/plain": "   appid                       name  release_date         developer publisher  \\\n0     10             Counter-Strike          2000             Valve     Valve   \n1     20      Team Fortress Classic          1999             Valve     Valve   \n2     30              Day of Defeat          2003             Valve     Valve   \n3     40         Deathmatch Classic          2001             Valve     Valve   \n4     50  Half-Life: Opposing Force          1999  Gearbox Software     Valve   \n\n           platforms  required_age  \\\n0  windows;mac;linux             0   \n1  windows;mac;linux             0   \n2  windows;mac;linux             0   \n3  windows;mac;linux             0   \n4  windows;mac;linux             0   \n\n                                          categories  genres  \\\n0  Multi-player;Online Multi-Player;Local Multi-P...  Action   \n1  Multi-player;Online Multi-Player;Local Multi-P...  Action   \n2              Multi-player;Valve Anti-Cheat enabled  Action   \n3  Multi-player;Online Multi-Player;Local Multi-P...  Action   \n4  Single-player;Multi-player;Valve Anti-Cheat en...  Action   \n\n                  steamspy_tags  achievements  positive_ratings  \\\n0        Action;FPS;Multiplayer             0            124534   \n1        Action;FPS;Multiplayer             0              3318   \n2  FPS;World War II;Multiplayer             0              3416   \n3        Action;FPS;Multiplayer             0              1273   \n4             FPS;Action;Sci-fi             0              5250   \n\n   negative_ratings  average_playtime  median_playtime    owners  price  \n0              3339             17612              317  20000000   7.19  \n1               633               277               62  10000000   3.99  \n2               398               187               34  10000000   3.99  \n3               267               258              184  10000000   3.99  \n4               288               624              415  10000000   3.99  ",
      "text/html": "<div>\n<style scoped>\n    .dataframe tbody tr th:only-of-type {\n        vertical-align: middle;\n    }\n\n    .dataframe tbody tr th {\n        vertical-align: top;\n    }\n\n    .dataframe thead th {\n        text-align: right;\n    }\n</style>\n<table border=\"1\" class=\"dataframe\">\n  <thead>\n    <tr style=\"text-align: right;\">\n      <th></th>\n      <th>appid</th>\n      <th>name</th>\n      <th>release_date</th>\n      <th>developer</th>\n      <th>publisher</th>\n      <th>platforms</th>\n      <th>required_age</th>\n      <th>categories</th>\n      <th>genres</th>\n      <th>steamspy_tags</th>\n      <th>achievements</th>\n      <th>positive_ratings</th>\n      <th>negative_ratings</th>\n      <th>average_playtime</th>\n      <th>median_playtime</th>\n      <th>owners</th>\n      <th>price</th>\n    </tr>\n  </thead>\n  <tbody>\n    <tr>\n      <th>0</th>\n      <td>10</td>\n      <td>Counter-Strike</td>\n      <td>2000</td>\n      <td>Valve</td>\n      <td>Valve</td>\n      <td>windows;mac;linux</td>\n      <td>0</td>\n      <td>Multi-player;Online Multi-Player;Local Multi-P...</td>\n      <td>Action</td>\n      <td>Action;FPS;Multiplayer</td>\n      <td>0</td>\n      <td>124534</td>\n      <td>3339</td>\n      <td>17612</td>\n      <td>317</td>\n      <td>20000000</td>\n      <td>7.19</td>\n    </tr>\n    <tr>\n      <th>1</th>\n      <td>20</td>\n      <td>Team Fortress Classic</td>\n      <td>1999</td>\n      <td>Valve</td>\n      <td>Valve</td>\n      <td>windows;mac;linux</td>\n      <td>0</td>\n      <td>Multi-player;Online Multi-Player;Local Multi-P...</td>\n      <td>Action</td>\n      <td>Action;FPS;Multiplayer</td>\n      <td>0</td>\n      <td>3318</td>\n      <td>633</td>\n      <td>277</td>\n      <td>62</td>\n      <td>10000000</td>\n      <td>3.99</td>\n    </tr>\n    <tr>\n      <th>2</th>\n      <td>30</td>\n      <td>Day of Defeat</td>\n      <td>2003</td>\n      <td>Valve</td>\n      <td>Valve</td>\n      <td>windows;mac;linux</td>\n      <td>0</td>\n      <td>Multi-player;Valve Anti-Cheat enabled</td>\n      <td>Action</td>\n      <td>FPS;World War II;Multiplayer</td>\n      <td>0</td>\n      <td>3416</td>\n      <td>398</td>\n      <td>187</td>\n      <td>34</td>\n      <td>10000000</td>\n      <td>3.99</td>\n    </tr>\n    <tr>\n      <th>3</th>\n      <td>40</td>\n      <td>Deathmatch Classic</td>\n      <td>2001</td>\n      <td>Valve</td>\n      <td>Valve</td>\n      <td>windows;mac;linux</td>\n      <td>0</td>\n      <td>Multi-player;Online Multi-Player;Local Multi-P...</td>\n      <td>Action</td>\n      <td>Action;FPS;Multiplayer</td>\n      <td>0</td>\n      <td>1273</td>\n      <td>267</td>\n      <td>258</td>\n      <td>184</td>\n      <td>10000000</td>\n      <td>3.99</td>\n    </tr>\n    <tr>\n      <th>4</th>\n      <td>50</td>\n      <td>Half-Life: Opposing Force</td>\n      <td>1999</td>\n      <td>Gearbox Software</td>\n      <td>Valve</td>\n      <td>windows;mac;linux</td>\n      <td>0</td>\n      <td>Single-player;Multi-player;Valve Anti-Cheat en...</td>\n      <td>Action</td>\n      <td>FPS;Action;Sci-fi</td>\n      <td>0</td>\n      <td>5250</td>\n      <td>288</td>\n      <td>624</td>\n      <td>415</td>\n      <td>10000000</td>\n      <td>3.99</td>\n    </tr>\n  </tbody>\n</table>\n</div>"
     },
     "execution_count": 690,
     "metadata": {},
     "output_type": "execute_result"
    }
   ],
   "source": [
    "data.head()"
   ],
   "metadata": {
    "collapsed": false,
    "ExecuteTime": {
     "end_time": "2023-11-09T18:50:20.233083700Z",
     "start_time": "2023-11-09T18:50:20.221701700Z"
    }
   },
   "id": "f259294f01cdc18f"
  },
  {
   "cell_type": "code",
   "execution_count": 691,
   "outputs": [
    {
     "name": "stdout",
     "output_type": "stream",
     "text": [
      "<class 'pandas.core.frame.DataFrame'>\n",
      "Int64Index: 27075 entries, 0 to 27074\n",
      "Data columns (total 17 columns):\n",
      " #   Column            Non-Null Count  Dtype  \n",
      "---  ------            --------------  -----  \n",
      " 0   appid             27075 non-null  int64  \n",
      " 1   name              27075 non-null  object \n",
      " 2   release_date      27075 non-null  int64  \n",
      " 3   developer         27075 non-null  object \n",
      " 4   publisher         27075 non-null  object \n",
      " 5   platforms         27075 non-null  object \n",
      " 6   required_age      27075 non-null  int64  \n",
      " 7   categories        27075 non-null  object \n",
      " 8   genres            27075 non-null  object \n",
      " 9   steamspy_tags     27075 non-null  object \n",
      " 10  achievements      27075 non-null  int64  \n",
      " 11  positive_ratings  27075 non-null  int64  \n",
      " 12  negative_ratings  27075 non-null  int64  \n",
      " 13  average_playtime  27075 non-null  int64  \n",
      " 14  median_playtime   27075 non-null  int64  \n",
      " 15  owners            27075 non-null  int64  \n",
      " 16  price             27075 non-null  float64\n",
      "dtypes: float64(1), int64(9), object(7)\n",
      "memory usage: 3.7+ MB\n"
     ]
    }
   ],
   "source": [
    "data.info()"
   ],
   "metadata": {
    "collapsed": false,
    "ExecuteTime": {
     "end_time": "2023-11-09T18:50:20.324549100Z",
     "start_time": "2023-11-09T18:50:20.235084300Z"
    }
   },
   "id": "bf7dcb1ae299070b"
  },
  {
   "cell_type": "markdown",
   "id": "4241ab2b",
   "metadata": {},
   "source": [
    "### 2.1"
   ]
  },
  {
   "cell_type": "code",
   "execution_count": 692,
   "id": "f9c632c1",
   "metadata": {
    "ExecuteTime": {
     "end_time": "2023-11-09T18:50:20.324549100Z",
     "start_time": "2023-11-09T18:50:20.269019500Z"
    }
   },
   "outputs": [
    {
     "data": {
      "text/plain": "                     price\nappid            -0.152112\nrelease_date     -0.057292\nrequired_age      0.120358\nachievements     -0.007996\npositive_ratings  0.036110\nnegative_ratings  0.051259\naverage_playtime  0.049242\nmedian_playtime   0.036610\nowners            0.031386\nprice             1.000000",
      "text/html": "<div>\n<style scoped>\n    .dataframe tbody tr th:only-of-type {\n        vertical-align: middle;\n    }\n\n    .dataframe tbody tr th {\n        vertical-align: top;\n    }\n\n    .dataframe thead th {\n        text-align: right;\n    }\n</style>\n<table border=\"1\" class=\"dataframe\">\n  <thead>\n    <tr style=\"text-align: right;\">\n      <th></th>\n      <th>price</th>\n    </tr>\n  </thead>\n  <tbody>\n    <tr>\n      <th>appid</th>\n      <td>-0.152112</td>\n    </tr>\n    <tr>\n      <th>release_date</th>\n      <td>-0.057292</td>\n    </tr>\n    <tr>\n      <th>required_age</th>\n      <td>0.120358</td>\n    </tr>\n    <tr>\n      <th>achievements</th>\n      <td>-0.007996</td>\n    </tr>\n    <tr>\n      <th>positive_ratings</th>\n      <td>0.036110</td>\n    </tr>\n    <tr>\n      <th>negative_ratings</th>\n      <td>0.051259</td>\n    </tr>\n    <tr>\n      <th>average_playtime</th>\n      <td>0.049242</td>\n    </tr>\n    <tr>\n      <th>median_playtime</th>\n      <td>0.036610</td>\n    </tr>\n    <tr>\n      <th>owners</th>\n      <td>0.031386</td>\n    </tr>\n    <tr>\n      <th>price</th>\n      <td>1.000000</td>\n    </tr>\n  </tbody>\n</table>\n</div>"
     },
     "metadata": {},
     "output_type": "display_data"
    }
   ],
   "source": [
    "cor_m = data.corr(numeric_only=True).price.to_frame()\n",
    "cor_m.style.background_gradient(cmap='coolwarm')\n",
    "display(cor_m)"
   ]
  },
  {
   "cell_type": "markdown",
   "source": [
    "**Самая большая кор. со столбцом required_age**"
   ],
   "metadata": {
    "collapsed": false
   },
   "id": "de850d7bc81ada72"
  },
  {
   "cell_type": "code",
   "execution_count": 693,
   "id": "21aa5be4",
   "metadata": {
    "ExecuteTime": {
     "end_time": "2023-11-09T18:50:20.507203300Z",
     "start_time": "2023-11-09T18:50:20.282539800Z"
    }
   },
   "outputs": [
    {
     "data": {
      "text/plain": "<Figure size 1000x1000 with 1 Axes>",
      "image/png": "[encoded data removed]"
     },
     "metadata": {},
     "output_type": "display_data"
    }
   ],
   "source": [
    "\n",
    "import pandas as pd\n",
    "import plotly.graph_objs as go\n",
    "import seaborn as sns\n",
    "\n",
    "data = data.loc[data['price'] <= 100]\n",
    "data = data.loc[data['required_age'] > 0]\n",
    "fig, ax = plt.subplots(figsize=(10,10))\n",
    "sns.scatterplot(x=\"required_age\",y=\"price\" , data =data)\n",
    "plt.show()\n"
   ]
  },
  {
   "cell_type": "code",
   "execution_count": 694,
   "id": "ca3caf33",
   "metadata": {
    "ExecuteTime": {
     "end_time": "2023-11-09T18:50:20.513825700Z",
     "start_time": "2023-11-09T18:50:20.510203900Z"
    }
   },
   "outputs": [],
   "source": [
    "\n",
    "class LinReg:\n",
    "    # a = 1\n",
    "    # b = 0\n",
    "    def __init__(self):\n",
    "        self.a = 1 #slide\n",
    "        self.b = 0 #offset\n",
    "        \n",
    "    def fit(self, X, y, learn_rate = 0.1,n=1000):\n",
    "        for i in range(n):\n",
    "            grad_a, grad_b = self.__gr_mserror(X,y)\n",
    "            self.a -= learn_rate * grad_a\n",
    "            self.b -= learn_rate * grad_b\n",
    "    \n",
    "    def predict(self, X):\n",
    "        return self.a * X + self.b\n",
    "    \n",
    "    def mserror(self, X, y):\n",
    "        y_pred = self.a * X + self.b\n",
    "        return  np.sum((y- y_pred)**2)/len(X)\n",
    "        \n",
    "    def __gr_mserror(self, X, y):\n",
    "        y_pred = self.a * X + self.b\n",
    "        return np.array([(-1)*(2/len(X) * np.sum(X * (y - y_pred))),(-1)* (2 / len(X) * np.sum(y - y_pred))])\n",
    "        "
   ]
  },
  {
   "cell_type": "code",
   "execution_count": 695,
   "id": "ddf4e097",
   "metadata": {
    "ExecuteTime": {
     "end_time": "2023-11-09T18:50:20.632652Z",
     "start_time": "2023-11-09T18:50:20.512825200Z"
    }
   },
   "outputs": [
    {
     "name": "stdout",
     "output_type": "stream",
     "text": [
      "My model Tilt: 0.15839735082976866 offset:-2.5155120343184776e-16, MSE:0.9749102792501111 \n",
      "Sk model Tilt: [0.15839735] offset:[-2.5691146e-16], MSE:0.9749102792501111\n"
     ]
    }
   ],
   "source": [
    "from sklearn.preprocessing import StandardScaler\n",
    "from sklearn.linear_model import LinearRegression\n",
    "from sklearn.metrics import mean_squared_error\n",
    "\n",
    "## Own Reg Model\n",
    "my_mod = LinReg()\n",
    "X = StandardScaler().fit_transform(data.price.values.reshape(-1,1))\n",
    "y = StandardScaler().fit_transform(data.required_age.values.reshape(-1,1))\n",
    "data.price.values.reshape(-1,1)\n",
    "my_mod.fit(X,y)\n",
    "\n",
    "print(f'My model Tilt: {my_mod.a} offset:{my_mod.b}, MSE:{my_mod.mserror(X,y)} ')\n",
    "\n",
    "#sk learn Reg Model\n",
    "mod = LinearRegression()\n",
    "mod.fit(X,y)\n",
    "print(f'Sk model Tilt: {mod.coef_[0]} offset:{mod.intercept_}, MSE:{mean_squared_error(mod.coef_[0]*X+mod.intercept_,y)}')\n"
   ]
  },
  {
   "cell_type": "markdown",
   "id": "4e21cef0",
   "metadata": {},
   "source": [
    "### 2.3 ###\n"
   ]
  },
  {
   "cell_type": "code",
   "execution_count": 696,
   "id": "7dd6b15e",
   "metadata": {
    "ExecuteTime": {
     "end_time": "2023-11-09T18:50:20.733730Z",
     "start_time": "2023-11-09T18:50:20.543632600Z"
    }
   },
   "outputs": [
    {
     "data": {
      "text/plain": "<Figure size 800x500 with 1 Axes>",
      "image/png": "[encoded data removed]"
     },
     "metadata": {},
     "output_type": "display_data"
    }
   ],
   "source": [
    "my_mod_y = my_mod.a * X + my_mod.b\n",
    "\n",
    "plt.figure(figsize=(8,5))\n",
    "plt.plot(X,my_mod_y,color='r')\n",
    "plt.scatter(y,X)\n",
    "plt.grid(color='r',linewidth=0.2)\n",
    "plt.title('Диаг. Рассения',fontsize = 13)\n",
    "plt.xlabel('feature',fontsize =13)\n",
    "plt.ylabel('target',fontsize =13)\n",
    "plt.show()"
   ]
  },
  {
   "cell_type": "markdown",
   "source": [
    "### 3.1 ###"
   ],
   "metadata": {
    "collapsed": false
   },
   "id": "407040f808260ed"
  },
  {
   "cell_type": "code",
   "execution_count": 697,
   "id": "03b22219",
   "metadata": {
    "ExecuteTime": {
     "end_time": "2023-11-09T18:50:20.733730Z",
     "start_time": "2023-11-09T18:50:20.727454400Z"
    }
   },
   "outputs": [],
   "source": [
    "\n",
    "data_ins = pd.read_csv('C:\\\\Users\\\\grman\\\\Documents\\\\BigPapa\\\\Greg\\\\BigData\\\\DataSet\\\\pr3\\\\insurance.csv')"
   ]
  },
  {
   "cell_type": "code",
   "execution_count": 698,
   "id": "ad95901d",
   "metadata": {
    "ExecuteTime": {
     "end_time": "2023-11-09T18:50:20.746782900Z",
     "start_time": "2023-11-09T18:50:20.733730Z"
    }
   },
   "outputs": [
    {
     "data": {
      "text/plain": "   age     sex     bmi  children smoker     region      charges\n0   19  female  27.900         0    yes  southwest  16884.92400\n1   18    male  33.770         1     no  southeast   1725.55230\n2   28    male  33.000         3     no  southeast   4449.46200\n3   33    male  22.705         0     no  northwest  21984.47061\n4   32    male  28.880         0     no  northwest   3866.85520",
      "text/html": "<div>\n<style scoped>\n    .dataframe tbody tr th:only-of-type {\n        vertical-align: middle;\n    }\n\n    .dataframe tbody tr th {\n        vertical-align: top;\n    }\n\n    .dataframe thead th {\n        text-align: right;\n    }\n</style>\n<table border=\"1\" class=\"dataframe\">\n  <thead>\n    <tr style=\"text-align: right;\">\n      <th></th>\n      <th>age</th>\n      <th>sex</th>\n      <th>bmi</th>\n      <th>children</th>\n      <th>smoker</th>\n      <th>region</th>\n      <th>charges</th>\n    </tr>\n  </thead>\n  <tbody>\n    <tr>\n      <th>0</th>\n      <td>19</td>\n      <td>female</td>\n      <td>27.900</td>\n      <td>0</td>\n      <td>yes</td>\n      <td>southwest</td>\n      <td>16884.92400</td>\n    </tr>\n    <tr>\n      <th>1</th>\n      <td>18</td>\n      <td>male</td>\n      <td>33.770</td>\n      <td>1</td>\n      <td>no</td>\n      <td>southeast</td>\n      <td>1725.55230</td>\n    </tr>\n    <tr>\n      <th>2</th>\n      <td>28</td>\n      <td>male</td>\n      <td>33.000</td>\n      <td>3</td>\n      <td>no</td>\n      <td>southeast</td>\n      <td>4449.46200</td>\n    </tr>\n    <tr>\n      <th>3</th>\n      <td>33</td>\n      <td>male</td>\n      <td>22.705</td>\n      <td>0</td>\n      <td>no</td>\n      <td>northwest</td>\n      <td>21984.47061</td>\n    </tr>\n    <tr>\n      <th>4</th>\n      <td>32</td>\n      <td>male</td>\n      <td>28.880</td>\n      <td>0</td>\n      <td>no</td>\n      <td>northwest</td>\n      <td>3866.85520</td>\n    </tr>\n  </tbody>\n</table>\n</div>"
     },
     "execution_count": 698,
     "metadata": {},
     "output_type": "execute_result"
    }
   ],
   "source": [
    "data_ins.head()"
   ]
  },
  {
   "cell_type": "code",
   "execution_count": 699,
   "id": "9592423a",
   "metadata": {
    "ExecuteTime": {
     "end_time": "2023-11-09T18:50:20.810388600Z",
     "start_time": "2023-11-09T18:50:20.744782400Z"
    }
   },
   "outputs": [
    {
     "data": {
      "text/plain": "age         0\nsex         0\nbmi         0\nchildren    0\nsmoker      0\nregion      0\ncharges     0\ndtype: int64"
     },
     "execution_count": 699,
     "metadata": {},
     "output_type": "execute_result"
    }
   ],
   "source": [
    "data_ins.isna().sum()"
   ]
  },
  {
   "cell_type": "code",
   "execution_count": 700,
   "id": "55b26757",
   "metadata": {
    "ExecuteTime": {
     "end_time": "2023-11-09T18:50:20.810388600Z",
     "start_time": "2023-11-09T18:50:20.756784500Z"
    }
   },
   "outputs": [
    {
     "data": {
      "text/plain": "1"
     },
     "execution_count": 700,
     "metadata": {},
     "output_type": "execute_result"
    }
   ],
   "source": [
    "data_ins.duplicated().sum()"
   ]
  },
  {
   "cell_type": "code",
   "execution_count": 701,
   "id": "4fe764ef",
   "metadata": {
    "ExecuteTime": {
     "end_time": "2023-11-09T18:50:20.811389Z",
     "start_time": "2023-11-09T18:50:20.764395900Z"
    }
   },
   "outputs": [
    {
     "data": {
      "text/plain": "age         0\nsex         0\nbmi         0\nchildren    0\nsmoker      0\nregion      0\ncharges     0\ndtype: int64"
     },
     "execution_count": 701,
     "metadata": {},
     "output_type": "execute_result"
    }
   ],
   "source": [
    "data_ins.isna().sum()"
   ]
  },
  {
   "cell_type": "code",
   "execution_count": 702,
   "id": "9c5d178f",
   "metadata": {
    "ExecuteTime": {
     "end_time": "2023-11-09T18:50:20.811389Z",
     "start_time": "2023-11-09T18:50:20.773139800Z"
    }
   },
   "outputs": [
    {
     "data": {
      "text/plain": "1"
     },
     "execution_count": 702,
     "metadata": {},
     "output_type": "execute_result"
    }
   ],
   "source": [
    "data_ins.duplicated().sum()"
   ]
  },
  {
   "cell_type": "code",
   "execution_count": 703,
   "id": "a648fbb7",
   "metadata": {
    "ExecuteTime": {
     "end_time": "2023-11-09T18:50:20.811389Z",
     "start_time": "2023-11-09T18:50:20.781675600Z"
    }
   },
   "outputs": [],
   "source": [
    "data_ins.drop_duplicates(inplace=True)"
   ]
  },
  {
   "cell_type": "code",
   "execution_count": 704,
   "id": "1b969b16",
   "metadata": {
    "ExecuteTime": {
     "end_time": "2023-11-09T18:50:20.811389Z",
     "start_time": "2023-11-09T18:50:20.789677600Z"
    }
   },
   "outputs": [
    {
     "name": "stdout",
     "output_type": "stream",
     "text": [
      "<class 'pandas.core.frame.DataFrame'>\n",
      "Int64Index: 1337 entries, 0 to 1337\n",
      "Data columns (total 7 columns):\n",
      " #   Column    Non-Null Count  Dtype  \n",
      "---  ------    --------------  -----  \n",
      " 0   age       1337 non-null   int64  \n",
      " 1   sex       1337 non-null   object \n",
      " 2   bmi       1337 non-null   float64\n",
      " 3   children  1337 non-null   int64  \n",
      " 4   smoker    1337 non-null   object \n",
      " 5   region    1337 non-null   object \n",
      " 6   charges   1337 non-null   float64\n",
      "dtypes: float64(2), int64(2), object(3)\n",
      "memory usage: 83.6+ KB\n"
     ]
    }
   ],
   "source": [
    "data_ins.info()"
   ]
  },
  {
   "cell_type": "code",
   "execution_count": 705,
   "id": "a5b2cc50",
   "metadata": {
    "ExecuteTime": {
     "end_time": "2023-11-09T18:50:20.839749900Z",
     "start_time": "2023-11-09T18:50:20.800408500Z"
    }
   },
   "outputs": [],
   "source": [
    "data_ins.smoker.replace('yes',1,inplace=True)\n",
    "data_ins.smoker.replace('no',0,inplace=True)\n",
    "data_ins.smoker = data_ins.smoker.astype(int)"
   ]
  },
  {
   "cell_type": "code",
   "execution_count": 706,
   "id": "c94e80b0",
   "metadata": {
    "ExecuteTime": {
     "end_time": "2023-11-09T18:50:20.901822500Z",
     "start_time": "2023-11-09T18:50:20.806671600Z"
    }
   },
   "outputs": [
    {
     "data": {
      "text/plain": "array(['southwest', 'southeast', 'northwest', 'northeast'], dtype=object)"
     },
     "execution_count": 706,
     "metadata": {},
     "output_type": "execute_result"
    }
   ],
   "source": [
    "data_ins.region.unique()"
   ]
  },
  {
   "cell_type": "code",
   "execution_count": 707,
   "id": "67412a71",
   "metadata": {
    "ExecuteTime": {
     "end_time": "2023-11-09T18:50:20.902822900Z",
     "start_time": "2023-11-09T18:50:20.815739700Z"
    }
   },
   "outputs": [
    {
     "data": {
      "text/plain": "F_onewayResult(statistic=39.48593864487439, pvalue=1.9087293927440606e-24)"
     },
     "execution_count": 707,
     "metadata": {},
     "output_type": "execute_result"
    }
   ],
   "source": [
    "import scipy as sp\n",
    "from scipy import stats\n",
    "import statsmodels.api as sm\n",
    "from statsmodels.formula.api import ols\n",
    "\n",
    "from statsmodels.stats.multicomp import pairwise_tukeyhsd\n",
    "from statsmodels.formula.api import ols\n",
    "from statsmodels.base.model import Model\n",
    "\n",
    "southwest = data_ins[data_ins.region == 'southwest'].bmi\n",
    "southeast = data_ins[data_ins.region == 'southeast'].bmi\n",
    "northwest = data_ins[data_ins.region == 'northwest'].bmi\n",
    "northeast = data_ins[data_ins.region == 'northeast'].bmi\n",
    "\n",
    "stats.f_oneway(southwest, southeast, northwest, northeast)"
   ]
  },
  {
   "cell_type": "markdown",
   "id": "b9445dec",
   "metadata": {},
   "source": [
    "### 3.2 ###"
   ]
  },
  {
   "cell_type": "code",
   "execution_count": 708,
   "id": "41e4dfd4",
   "metadata": {
    "ExecuteTime": {
     "end_time": "2023-11-09T18:50:20.954456500Z",
     "start_time": "2023-11-09T18:50:20.828419900Z"
    }
   },
   "outputs": [
    {
     "data": {
      "text/plain": "                sum_sq      df          F        PR(>F)\nregion     4057.813904     3.0  39.485939  1.908729e-24\nResidual  45662.381091  1333.0        NaN           NaN",
      "text/html": "<div>\n<style scoped>\n    .dataframe tbody tr th:only-of-type {\n        vertical-align: middle;\n    }\n\n    .dataframe tbody tr th {\n        vertical-align: top;\n    }\n\n    .dataframe thead th {\n        text-align: right;\n    }\n</style>\n<table border=\"1\" class=\"dataframe\">\n  <thead>\n    <tr style=\"text-align: right;\">\n      <th></th>\n      <th>sum_sq</th>\n      <th>df</th>\n      <th>F</th>\n      <th>PR(&gt;F)</th>\n    </tr>\n  </thead>\n  <tbody>\n    <tr>\n      <th>region</th>\n      <td>4057.813904</td>\n      <td>3.0</td>\n      <td>39.485939</td>\n      <td>1.908729e-24</td>\n    </tr>\n    <tr>\n      <th>Residual</th>\n      <td>45662.381091</td>\n      <td>1333.0</td>\n      <td>NaN</td>\n      <td>NaN</td>\n    </tr>\n  </tbody>\n</table>\n</div>"
     },
     "execution_count": 708,
     "metadata": {},
     "output_type": "execute_result"
    }
   ],
   "source": [
    "\n",
    "frame_anova = pd.DataFrame({'region': data_ins.region, 'bmi': data_ins.bmi})\n",
    "model_anova = ols('bmi ~ region', data = frame_anova).fit()\n",
    "result = sm.stats.anova_lm(model_anova, typ=2)\n",
    "result"
   ]
  },
  {
   "cell_type": "markdown",
   "id": "364fc943",
   "metadata": {},
   "source": [
    "### 3.3 ###"
   ]
  },
  {
   "cell_type": "code",
   "execution_count": 709,
   "id": "e92f570c",
   "metadata": {
    "ExecuteTime": {
     "end_time": "2023-11-09T18:50:20.955456800Z",
     "start_time": "2023-11-09T18:50:20.852811700Z"
    }
   },
   "outputs": [
    {
     "name": "stdout",
     "output_type": "stream",
     "text": [
      "southwest southeast\n",
      "(-5.90837382154508, 5.437400963969294e-09, 687.0)\n",
      "southwest northwest\n",
      "(3.2895934605016888, 0.0010577505931067053, 647.0)\n",
      "southwest northeast\n",
      "(3.1169000930046153, 0.0019086161671571567, 647.0)\n",
      "southeast northwest\n",
      "(9.2521374892196, 2.750425554779818e-19, 686.0)\n",
      "southeast northeast\n",
      "(8.790905562598684, 1.1860149374249582e-17, 686.0)\n",
      "northwest northeast\n",
      "(0.05038637314068614, 0.9598300701853016, 646.0)\n",
      "\n",
      "Поправка Бонферрони: 0.008333333333333333\n"
     ]
    }
   ],
   "source": [
    "region_list = data_ins.region.unique()\n",
    "region_pairs = []\n",
    "for i in range(len(region_list) - 1):\n",
    "    for j in range(i + 1, len(region_list)):\n",
    "        region_pairs.append((region_list[i], region_list[j]))\n",
    "\n",
    "for reg_1, reg_2 in region_pairs:\n",
    "    print(reg_1, reg_2)\n",
    "    print(sm.stats.ttest_ind(data_ins.loc[data_ins.region == reg_1].bmi,\n",
    "                             data_ins.loc[data_ins.region == reg_2].bmi))\n",
    "    \n",
    "    \n",
    "print()\n",
    "print(f'Поправка Бонферрони: {0.05/6}')"
   ]
  },
  {
   "cell_type": "markdown",
   "id": "fc5af379",
   "metadata": {},
   "source": [
    "### 3.4 ###"
   ]
  },
  {
   "cell_type": "code",
   "execution_count": 710,
   "id": "77098086",
   "metadata": {
    "ExecuteTime": {
     "end_time": "2023-11-09T18:50:21.412320300Z",
     "start_time": "2023-11-09T18:50:20.864813900Z"
    }
   },
   "outputs": [
    {
     "data": {
      "text/plain": "<class 'statsmodels.iolib.table.SimpleTable'>",
      "text/html": "<table class=\"simpletable\">\n<caption>Multiple Comparison of Means - Tukey HSD, FWER=0.05</caption>\n<tr>\n   <th>group1</th>    <th>group2</th>   <th>meandiff</th>  <th>p-adj</th>  <th>lower</th>   <th>upper</th>  <th>reject</th>\n</tr>\n<tr>\n  <td>northeast</td> <td>northwest</td>   <td>0.022</td>    <td>1.0</td>  <td>-1.1608</td> <td>1.2048</td>   <td>False</td>\n</tr>\n<tr>\n  <td>northeast</td> <td>southeast</td>  <td>4.1825</td>    <td>0.0</td>  <td>3.0326</td>  <td>5.3324</td>   <td>True</td> \n</tr>\n<tr>\n  <td>northeast</td> <td>southwest</td>  <td>1.4231</td>  <td>0.0107</td> <td>0.2412</td>   <td>2.605</td>   <td>True</td> \n</tr>\n<tr>\n  <td>northwest</td> <td>southeast</td>  <td>4.1605</td>    <td>0.0</td>  <td>3.0106</td>  <td>5.3104</td>   <td>True</td> \n</tr>\n<tr>\n  <td>northwest</td> <td>southwest</td>  <td>1.4011</td>  <td>0.0125</td> <td>0.2192</td>   <td>2.583</td>   <td>True</td> \n</tr>\n<tr>\n  <td>southeast</td> <td>southwest</td>  <td>-2.7594</td>   <td>0.0</td>  <td>-3.9083</td> <td>-1.6104</td>  <td>True</td> \n</tr>\n</table>",
      "text/latex": "\\begin{center}\n\\begin{tabular}{ccccccc}\n\\toprule\n\\textbf{group1} & \\textbf{group2} & \\textbf{meandiff} & \\textbf{p-adj} & \\textbf{lower} & \\textbf{upper} & \\textbf{reject}  \\\\\n\\midrule\n   northeast    &    northwest    &       0.022       &      1.0       &    -1.1608     &     1.2048     &      False       \\\\\n   northeast    &    southeast    &       4.1825      &      0.0       &     3.0326     &     5.3324     &       True       \\\\\n   northeast    &    southwest    &       1.4231      &     0.0107     &     0.2412     &     2.605      &       True       \\\\\n   northwest    &    southeast    &       4.1605      &      0.0       &     3.0106     &     5.3104     &       True       \\\\\n   northwest    &    southwest    &       1.4011      &     0.0125     &     0.2192     &     2.583      &       True       \\\\\n   southeast    &    southwest    &      -2.7594      &      0.0       &    -3.9083     &    -1.6104     &       True       \\\\\n\\bottomrule\n\\end{tabular}\n%\\caption{Multiple Comparison of Means - Tukey HSD, FWER=0.05}\n\\end{center}"
     },
     "execution_count": 710,
     "metadata": {},
     "output_type": "execute_result"
    },
    {
     "data": {
      "text/plain": "<Figure size 1000x600 with 1 Axes>",
      "image/png": "[encoded data removed]"
     },
     "metadata": {},
     "output_type": "display_data"
    }
   ],
   "source": [
    "import matplotlib.pyplot as plt\n",
    "\n",
    "\n",
    "from statsmodels.stats.multicomp import pairwise_tukeyhsd\n",
    "\n",
    "\n",
    "tukey = pairwise_tukeyhsd(endog=data_ins.bmi, groups=data_ins.region, alpha=0.05)\n",
    "tukey.plot_simultaneous()\n",
    "plt.vlines(x=30, ymin=-0.5, ymax=3.5, color='green')\n",
    "tukey.summary()\n"
   ]
  },
  {
   "cell_type": "code",
   "execution_count": 711,
   "outputs": [
    {
     "data": {
      "text/plain": "                        sum_sq      df          F        PR(>F)\nC(region)          4036.141807     3.0  39.381780  2.215903e-24\nC(sex)               85.359929     1.0   2.498643  1.141824e-01\nC(region):C(sex)    175.040197     3.0   1.707917  1.635099e-01\nResidual          45401.980965  1329.0        NaN           NaN",
      "text/html": "<div>\n<style scoped>\n    .dataframe tbody tr th:only-of-type {\n        vertical-align: middle;\n    }\n\n    .dataframe tbody tr th {\n        vertical-align: top;\n    }\n\n    .dataframe thead th {\n        text-align: right;\n    }\n</style>\n<table border=\"1\" class=\"dataframe\">\n  <thead>\n    <tr style=\"text-align: right;\">\n      <th></th>\n      <th>sum_sq</th>\n      <th>df</th>\n      <th>F</th>\n      <th>PR(&gt;F)</th>\n    </tr>\n  </thead>\n  <tbody>\n    <tr>\n      <th>C(region)</th>\n      <td>4036.141807</td>\n      <td>3.0</td>\n      <td>39.381780</td>\n      <td>2.215903e-24</td>\n    </tr>\n    <tr>\n      <th>C(sex)</th>\n      <td>85.359929</td>\n      <td>1.0</td>\n      <td>2.498643</td>\n      <td>1.141824e-01</td>\n    </tr>\n    <tr>\n      <th>C(region):C(sex)</th>\n      <td>175.040197</td>\n      <td>3.0</td>\n      <td>1.707917</td>\n      <td>1.635099e-01</td>\n    </tr>\n    <tr>\n      <th>Residual</th>\n      <td>45401.980965</td>\n      <td>1329.0</td>\n      <td>NaN</td>\n      <td>NaN</td>\n    </tr>\n  </tbody>\n</table>\n</div>"
     },
     "execution_count": 711,
     "metadata": {},
     "output_type": "execute_result"
    }
   ],
   "source": [
    "frame_anova_2 = pd.DataFrame({'bmi': data_ins.bmi, 'region': data_ins.region, 'sex': data_ins.sex})\n",
    "model_anova_2 = ols('bmi ~ C(region) + C(sex) + C(region):C(sex)', data = frame_anova_2).fit()\n",
    "result = sm.stats.anova_lm(model_anova_2, typ=2)\n",
    "result\n"
   ],
   "metadata": {
    "collapsed": false,
    "ExecuteTime": {
     "end_time": "2023-11-09T18:50:21.500101500Z",
     "start_time": "2023-11-09T18:50:21.411319900Z"
    }
   },
   "id": "459c636fac8f711a"
  },
  {
   "cell_type": "code",
   "execution_count": 712,
   "outputs": [
    {
     "data": {
      "text/plain": "<class 'statsmodels.iolib.table.SimpleTable'>",
      "text/html": "<table class=\"simpletable\">\n<caption>Multiple Comparison of Means - Tukey HSD, FWER=0.05</caption>\n<tr>\n       <th>group1</th>           <th>group2</th>      <th>meandiff</th>  <th>p-adj</th>  <th>lower</th>   <th>upper</th>  <th>reject</th>\n</tr>\n<tr>\n  <td>northeast.female</td>  <td>northeast.male</td>   <td>-0.2998</td> <td>0.9998</td> <td>-2.2713</td> <td>1.6718</td>   <td>False</td>\n</tr>\n<tr>\n  <td>northeast.female</td> <td>northwest.female</td>  <td>-0.0464</td>   <td>1.0</td>  <td>-2.0149</td> <td>1.9222</td>   <td>False</td>\n</tr>\n<tr>\n  <td>northeast.female</td>  <td>northwest.male</td>   <td>-0.2133</td>   <td>1.0</td>  <td>-2.194</td>  <td>1.7674</td>   <td>False</td>\n</tr>\n<tr>\n  <td>northeast.female</td> <td>southeast.female</td>  <td>3.3469</td>    <td>0.0</td>  <td>1.4093</td>  <td>5.2846</td>   <td>True</td> \n</tr>\n<tr>\n  <td>northeast.female</td>  <td>southeast.male</td>   <td>4.6657</td>    <td>0.0</td>  <td>2.7627</td>  <td>6.5686</td>   <td>True</td> \n</tr>\n<tr>\n  <td>northeast.female</td> <td>southwest.female</td>  <td>0.7362</td>  <td>0.9498</td> <td>-1.2384</td> <td>2.7107</td>   <td>False</td>\n</tr>\n<tr>\n  <td>northeast.female</td>  <td>southwest.male</td>   <td>1.8051</td>   <td>0.101</td> <td>-0.1664</td> <td>3.7767</td>   <td>False</td>\n</tr>\n<tr>\n   <td>northeast.male</td>  <td>northwest.female</td>  <td>0.2534</td>  <td>0.9999</td> <td>-1.709</td>  <td>2.2159</td>   <td>False</td>\n</tr>\n<tr>\n   <td>northeast.male</td>   <td>northwest.male</td>   <td>0.0864</td>    <td>1.0</td>  <td>-1.8882</td> <td>2.0611</td>   <td>False</td>\n</tr>\n<tr>\n   <td>northeast.male</td>  <td>southeast.female</td>  <td>3.6467</td>    <td>0.0</td>  <td>1.7153</td>  <td>5.5782</td>   <td>True</td> \n</tr>\n<tr>\n   <td>northeast.male</td>   <td>southeast.male</td>   <td>4.9655</td>    <td>0.0</td>  <td>3.0688</td>  <td>6.8621</td>   <td>True</td> \n</tr>\n<tr>\n   <td>northeast.male</td>  <td>southwest.female</td>   <td>1.036</td>  <td>0.7519</td> <td>-0.9325</td> <td>3.0044</td>   <td>False</td>\n</tr>\n<tr>\n   <td>northeast.male</td>   <td>southwest.male</td>   <td>2.1049</td>  <td>0.0259</td> <td>0.1395</td>  <td>4.0703</td>   <td>True</td> \n</tr>\n<tr>\n  <td>northwest.female</td>  <td>northwest.male</td>   <td>-0.167</td>    <td>1.0</td>  <td>-2.1386</td> <td>1.8047</td>   <td>False</td>\n</tr>\n<tr>\n  <td>northwest.female</td> <td>southeast.female</td>  <td>3.3933</td>    <td>0.0</td>  <td>1.4649</td>  <td>5.3217</td>   <td>True</td> \n</tr>\n<tr>\n  <td>northwest.female</td>  <td>southeast.male</td>    <td>4.712</td>    <td>0.0</td>  <td>2.8185</td>  <td>6.6056</td>   <td>True</td> \n</tr>\n<tr>\n  <td>northwest.female</td> <td>southwest.female</td>  <td>0.7825</td>  <td>0.9295</td> <td>-1.1829</td>  <td>2.748</td>   <td>False</td>\n</tr>\n<tr>\n  <td>northwest.female</td>  <td>southwest.male</td>   <td>1.8515</td>  <td>0.0809</td> <td>-0.111</td>  <td>3.8139</td>   <td>False</td>\n</tr>\n<tr>\n   <td>northwest.male</td>  <td>southeast.female</td>  <td>3.5603</td>    <td>0.0</td>  <td>1.6195</td>  <td>5.5011</td>   <td>True</td> \n</tr>\n<tr>\n   <td>northwest.male</td>   <td>southeast.male</td>    <td>4.879</td>    <td>0.0</td>  <td>2.9729</td>  <td>6.7852</td>   <td>True</td> \n</tr>\n<tr>\n   <td>northwest.male</td>  <td>southwest.female</td>  <td>0.9495</td>  <td>0.8298</td> <td>-1.0281</td> <td>2.9272</td>   <td>False</td>\n</tr>\n<tr>\n   <td>northwest.male</td>   <td>southwest.male</td>   <td>2.0185</td>   <td>0.041</td> <td>0.0438</td>  <td>3.9931</td>   <td>True</td> \n</tr>\n<tr>\n  <td>southeast.female</td>  <td>southeast.male</td>   <td>1.3187</td>  <td>0.3828</td> <td>-0.5427</td> <td>3.1801</td>   <td>False</td>\n</tr>\n<tr>\n  <td>southeast.female</td> <td>southwest.female</td>  <td>-2.6108</td> <td>0.0012</td> <td>-4.5453</td> <td>-0.6762</td>  <td>True</td> \n</tr>\n<tr>\n  <td>southeast.female</td>  <td>southwest.male</td>   <td>-1.5418</td> <td>0.2308</td> <td>-3.4733</td> <td>0.3896</td>   <td>False</td>\n</tr>\n<tr>\n   <td>southeast.male</td>  <td>southwest.female</td>  <td>-3.9295</td>   <td>0.0</td>  <td>-5.8293</td> <td>-2.0297</td>  <td>True</td> \n</tr>\n<tr>\n   <td>southeast.male</td>   <td>southwest.male</td>   <td>-2.8606</td> <td>0.0001</td> <td>-4.7572</td> <td>-0.9639</td>  <td>True</td> \n</tr>\n<tr>\n  <td>southwest.female</td>  <td>southwest.male</td>    <td>1.069</td>  <td>0.7205</td> <td>-0.8995</td> <td>3.0374</td>   <td>False</td>\n</tr>\n</table>",
      "text/latex": "\\begin{center}\n\\begin{tabular}{ccccccc}\n\\toprule\n\\textbf{group1}  & \\textbf{group2}  & \\textbf{meandiff} & \\textbf{p-adj} & \\textbf{lower} & \\textbf{upper} & \\textbf{reject}  \\\\\n\\midrule\nnortheast.female &  northeast.male  &      -0.2998      &     0.9998     &    -2.2713     &     1.6718     &      False       \\\\\nnortheast.female & northwest.female &      -0.0464      &      1.0       &    -2.0149     &     1.9222     &      False       \\\\\nnortheast.female &  northwest.male  &      -0.2133      &      1.0       &     -2.194     &     1.7674     &      False       \\\\\nnortheast.female & southeast.female &       3.3469      &      0.0       &     1.4093     &     5.2846     &       True       \\\\\nnortheast.female &  southeast.male  &       4.6657      &      0.0       &     2.7627     &     6.5686     &       True       \\\\\nnortheast.female & southwest.female &       0.7362      &     0.9498     &    -1.2384     &     2.7107     &      False       \\\\\nnortheast.female &  southwest.male  &       1.8051      &     0.101      &    -0.1664     &     3.7767     &      False       \\\\\n northeast.male  & northwest.female &       0.2534      &     0.9999     &     -1.709     &     2.2159     &      False       \\\\\n northeast.male  &  northwest.male  &       0.0864      &      1.0       &    -1.8882     &     2.0611     &      False       \\\\\n northeast.male  & southeast.female &       3.6467      &      0.0       &     1.7153     &     5.5782     &       True       \\\\\n northeast.male  &  southeast.male  &       4.9655      &      0.0       &     3.0688     &     6.8621     &       True       \\\\\n northeast.male  & southwest.female &       1.036       &     0.7519     &    -0.9325     &     3.0044     &      False       \\\\\n northeast.male  &  southwest.male  &       2.1049      &     0.0259     &     0.1395     &     4.0703     &       True       \\\\\nnorthwest.female &  northwest.male  &       -0.167      &      1.0       &    -2.1386     &     1.8047     &      False       \\\\\nnorthwest.female & southeast.female &       3.3933      &      0.0       &     1.4649     &     5.3217     &       True       \\\\\nnorthwest.female &  southeast.male  &       4.712       &      0.0       &     2.8185     &     6.6056     &       True       \\\\\nnorthwest.female & southwest.female &       0.7825      &     0.9295     &    -1.1829     &     2.748      &      False       \\\\\nnorthwest.female &  southwest.male  &       1.8515      &     0.0809     &     -0.111     &     3.8139     &      False       \\\\\n northwest.male  & southeast.female &       3.5603      &      0.0       &     1.6195     &     5.5011     &       True       \\\\\n northwest.male  &  southeast.male  &       4.879       &      0.0       &     2.9729     &     6.7852     &       True       \\\\\n northwest.male  & southwest.female &       0.9495      &     0.8298     &    -1.0281     &     2.9272     &      False       \\\\\n northwest.male  &  southwest.male  &       2.0185      &     0.041      &     0.0438     &     3.9931     &       True       \\\\\nsoutheast.female &  southeast.male  &       1.3187      &     0.3828     &    -0.5427     &     3.1801     &      False       \\\\\nsoutheast.female & southwest.female &      -2.6108      &     0.0012     &    -4.5453     &    -0.6762     &       True       \\\\\nsoutheast.female &  southwest.male  &      -1.5418      &     0.2308     &    -3.4733     &     0.3896     &      False       \\\\\n southeast.male  & southwest.female &      -3.9295      &      0.0       &    -5.8293     &    -2.0297     &       True       \\\\\n southeast.male  &  southwest.male  &      -2.8606      &     0.0001     &    -4.7572     &    -0.9639     &       True       \\\\\nsouthwest.female &  southwest.male  &       1.069       &     0.7205     &    -0.8995     &     3.0374     &      False       \\\\\n\\bottomrule\n\\end{tabular}\n%\\caption{Multiple Comparison of Means - Tukey HSD, FWER=0.05}\n\\end{center}"
     },
     "execution_count": 712,
     "metadata": {},
     "output_type": "execute_result"
    },
    {
     "data": {
      "text/plain": "<Figure size 1000x600 with 1 Axes>",
      "image/png": "[encoded data removed]"
     },
     "metadata": {},
     "output_type": "display_data"
    }
   ],
   "source": [
    "tukey = pairwise_tukeyhsd(endog=data_ins.bmi, groups=data_ins.region + \".\" + data_ins.sex, alpha=0.05)\n",
    "tukey.plot_simultaneous()\n",
    "tukey.summary()"
   ],
   "metadata": {
    "collapsed": false,
    "ExecuteTime": {
     "end_time": "2023-11-09T18:50:22.470976500Z",
     "start_time": "2023-11-09T18:50:21.449328400Z"
    }
   },
   "id": "926f2acbaa83af0"
  }
 ],
 "metadata": {
  "kernelspec": {
   "display_name": "Python 3 (ipykernel)",
   "language": "python",
   "name": "python3"
  },
  "language_info": {
   "codemirror_mode": {
    "name": "ipython",
    "version": 3
   },
   "file_extension": ".py",
   "mimetype": "text/x-python",
   "name": "python",
   "nbconvert_exporter": "python",
   "pygments_lexer": "ipython3",
   "version": "3.11.4"
  }
 },
 "nbformat": 4,
 "nbformat_minor": 5
}
